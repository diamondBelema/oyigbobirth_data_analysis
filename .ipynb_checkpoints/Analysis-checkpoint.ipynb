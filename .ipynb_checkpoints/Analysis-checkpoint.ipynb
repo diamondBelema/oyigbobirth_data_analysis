{
 "cells": [
  {
   "cell_type": "code",
   "execution_count": 262,
   "id": "915ec5ab-c8ce-49b4-9edd-acd40a8b4c85",
   "metadata": {},
   "outputs": [],
   "source": [
    "import openpyxl\n",
    "import pandas as pd"
   ]
  },
  {
   "cell_type": "markdown",
   "id": "77f22b86-5b89-47cb-9130-3909be8b14de",
   "metadata": {},
   "source": [
    "## Load the birth data excel sheet"
   ]
  },
  {
   "cell_type": "code",
   "execution_count": 263,
   "id": "be8eebb1-5a19-43c7-9cbd-e81afb626038",
   "metadata": {},
   "outputs": [],
   "source": [
    "birth_data = pd.read_excel(\"BIRTH, Oyigbo data.xlsx\", engine='openpyxl')"
   ]
  },
  {
   "cell_type": "markdown",
   "id": "3710f7dc-889c-4146-b061-1b68b12346cc",
   "metadata": {},
   "source": [
    "## Load The Delivery data excel sheet"
   ]
  },
  {
   "cell_type": "code",
   "execution_count": 264,
   "id": "d4f0d42f-a090-424c-afc5-3c206f9491b0",
   "metadata": {},
   "outputs": [
    {
     "name": "stdout",
     "output_type": "stream",
     "text": [
      "['Merger 3', 'ANCdata 2', 'BIRTHdata 2']\n"
     ]
    }
   ],
   "source": [
    "xls = pd.ExcelFile(\"ANC AND DELIVERY DATA.xlsx\", engine='openpyxl')\n",
    "print(xls.sheet_names)"
   ]
  },
  {
   "cell_type": "code",
   "execution_count": 265,
   "id": "db4ad838-25db-4522-8756-810026d11cb6",
   "metadata": {},
   "outputs": [],
   "source": [
    "anc_data = pd.read_excel(xls, sheet_name=\"ANCdata 2\")"
   ]
  },
  {
   "cell_type": "markdown",
   "id": "921ea2d0-a18f-4b1f-9185-2c30f4824588",
   "metadata": {},
   "source": [
    "## Get an overview of the data"
   ]
  },
  {
   "cell_type": "code",
   "execution_count": 266,
   "id": "6d389694-239f-4685-a579-e7c577fa083c",
   "metadata": {},
   "outputs": [
    {
     "data": {
      "text/html": [
       "<div>\n",
       "<style scoped>\n",
       "    .dataframe tbody tr th:only-of-type {\n",
       "        vertical-align: middle;\n",
       "    }\n",
       "\n",
       "    .dataframe tbody tr th {\n",
       "        vertical-align: top;\n",
       "    }\n",
       "\n",
       "    .dataframe thead th {\n",
       "        text-align: right;\n",
       "    }\n",
       "</style>\n",
       "<table border=\"1\" class=\"dataframe\">\n",
       "  <thead>\n",
       "    <tr style=\"text-align: right;\">\n",
       "      <th></th>\n",
       "      <th>Date of  Arrival</th>\n",
       "      <th>ID</th>\n",
       "      <th>Age</th>\n",
       "      <th>Booking Status</th>\n",
       "      <th>Parity</th>\n",
       "      <th>Was Patient referred?</th>\n",
       "      <th>Date of Delivery</th>\n",
       "      <th>Mode of Delivery</th>\n",
       "      <th>Partograph Used</th>\n",
       "      <th>Outcome of Delivery</th>\n",
       "      <th>Birth Weight in Kg</th>\n",
       "      <th>Sex of Baby</th>\n",
       "      <th>Time of putting baby to breast</th>\n",
       "      <th>Was 4% Chlorhexidine gel applied to cord at birth?</th>\n",
       "    </tr>\n",
       "  </thead>\n",
       "  <tbody>\n",
       "    <tr>\n",
       "      <th>0</th>\n",
       "      <td>2024-01-02</td>\n",
       "      <td>235/23</td>\n",
       "      <td>34.0</td>\n",
       "      <td>Booked</td>\n",
       "      <td>3.0</td>\n",
       "      <td>NaN</td>\n",
       "      <td>2024-01-02</td>\n",
       "      <td>Spontaneous Vertex Delivery (SVD)</td>\n",
       "      <td>Yes</td>\n",
       "      <td>Live Birth</td>\n",
       "      <td>2.5</td>\n",
       "      <td>Female</td>\n",
       "      <td>NaN</td>\n",
       "      <td>NaN</td>\n",
       "    </tr>\n",
       "    <tr>\n",
       "      <th>1</th>\n",
       "      <td>2024-01-02</td>\n",
       "      <td>385/23</td>\n",
       "      <td>26.0</td>\n",
       "      <td>Booked</td>\n",
       "      <td>2.0</td>\n",
       "      <td>NaN</td>\n",
       "      <td>2024-01-02</td>\n",
       "      <td>Spontaneous Vertex Delivery (SVD)</td>\n",
       "      <td>Yes</td>\n",
       "      <td>Live Birth</td>\n",
       "      <td>3.4</td>\n",
       "      <td>Female</td>\n",
       "      <td>NaN</td>\n",
       "      <td>NaN</td>\n",
       "    </tr>\n",
       "    <tr>\n",
       "      <th>2</th>\n",
       "      <td>2024-01-09</td>\n",
       "      <td>360/23</td>\n",
       "      <td>40.0</td>\n",
       "      <td>Booked</td>\n",
       "      <td>4.0</td>\n",
       "      <td>NaN</td>\n",
       "      <td>2024-01-09</td>\n",
       "      <td>Spontaneous Vertex Delivery (SVD)</td>\n",
       "      <td>Yes</td>\n",
       "      <td>Live Birth</td>\n",
       "      <td>3.0</td>\n",
       "      <td>Male</td>\n",
       "      <td>NaN</td>\n",
       "      <td>NaN</td>\n",
       "    </tr>\n",
       "    <tr>\n",
       "      <th>3</th>\n",
       "      <td>2024-01-17</td>\n",
       "      <td>456/23</td>\n",
       "      <td>27.0</td>\n",
       "      <td>Booked</td>\n",
       "      <td>3.0</td>\n",
       "      <td>NaN</td>\n",
       "      <td>2024-01-17</td>\n",
       "      <td>Spontaneous Vertex Delivery (SVD)</td>\n",
       "      <td>Yes</td>\n",
       "      <td>Live Birth</td>\n",
       "      <td>3.2</td>\n",
       "      <td>Female</td>\n",
       "      <td>NaN</td>\n",
       "      <td>NaN</td>\n",
       "    </tr>\n",
       "    <tr>\n",
       "      <th>4</th>\n",
       "      <td>2024-01-02</td>\n",
       "      <td>490/23</td>\n",
       "      <td>23.0</td>\n",
       "      <td>Booked</td>\n",
       "      <td>1.0</td>\n",
       "      <td>NaN</td>\n",
       "      <td>2024-01-03</td>\n",
       "      <td>Spontaneous Vertex Delivery (SVD)</td>\n",
       "      <td>Yes</td>\n",
       "      <td>Live Birth</td>\n",
       "      <td>3.0</td>\n",
       "      <td>Male</td>\n",
       "      <td>NaN</td>\n",
       "      <td>NaN</td>\n",
       "    </tr>\n",
       "  </tbody>\n",
       "</table>\n",
       "</div>"
      ],
      "text/plain": [
       "  Date of  Arrival      ID   Age Booking Status  Parity Was Patient referred?  \\\n",
       "0       2024-01-02  235/23  34.0         Booked     3.0                   NaN   \n",
       "1       2024-01-02  385/23  26.0         Booked     2.0                   NaN   \n",
       "2       2024-01-09  360/23  40.0         Booked     4.0                   NaN   \n",
       "3       2024-01-17  456/23  27.0         Booked     3.0                   NaN   \n",
       "4       2024-01-02  490/23  23.0         Booked     1.0                   NaN   \n",
       "\n",
       "  Date of Delivery                   Mode of Delivery Partograph Used  \\\n",
       "0       2024-01-02  Spontaneous Vertex Delivery (SVD)             Yes   \n",
       "1       2024-01-02  Spontaneous Vertex Delivery (SVD)             Yes   \n",
       "2       2024-01-09  Spontaneous Vertex Delivery (SVD)             Yes   \n",
       "3       2024-01-17  Spontaneous Vertex Delivery (SVD)             Yes   \n",
       "4       2024-01-03  Spontaneous Vertex Delivery (SVD)             Yes   \n",
       "\n",
       "  Outcome of Delivery  Birth Weight in Kg Sex of Baby  \\\n",
       "0          Live Birth                 2.5      Female   \n",
       "1          Live Birth                 3.4      Female   \n",
       "2          Live Birth                 3.0        Male   \n",
       "3          Live Birth                 3.2      Female   \n",
       "4          Live Birth                 3.0        Male   \n",
       "\n",
       "  Time of putting baby to breast  \\\n",
       "0                            NaN   \n",
       "1                            NaN   \n",
       "2                            NaN   \n",
       "3                            NaN   \n",
       "4                            NaN   \n",
       "\n",
       "  Was 4% Chlorhexidine gel applied to cord at birth?  \n",
       "0                                                NaN  \n",
       "1                                                NaN  \n",
       "2                                                NaN  \n",
       "3                                                NaN  \n",
       "4                                                NaN  "
      ]
     },
     "execution_count": 266,
     "metadata": {},
     "output_type": "execute_result"
    }
   ],
   "source": [
    "birth_data.head()"
   ]
  },
  {
   "cell_type": "code",
   "execution_count": 267,
   "id": "26b7242d-4de1-451d-996c-ecde61eae2a5",
   "metadata": {},
   "outputs": [
    {
     "data": {
      "text/plain": [
       "(161, 14)"
      ]
     },
     "execution_count": 267,
     "metadata": {},
     "output_type": "execute_result"
    }
   ],
   "source": [
    "birth_data.shape"
   ]
  },
  {
   "cell_type": "markdown",
   "id": "c607faee-694b-47c0-bf5a-6d29467d438e",
   "metadata": {},
   "source": [
    "# Clean the birth dataset"
   ]
  },
  {
   "cell_type": "markdown",
   "id": "c1f8c569-d5e0-4839-8df6-adcfaaebb90a",
   "metadata": {},
   "source": [
    "## Rename The Columns so it has a suitable name that is ready for use"
   ]
  },
  {
   "cell_type": "code",
   "execution_count": 268,
   "id": "1d803aaa-ac5f-4a35-94f5-77ced94f1475",
   "metadata": {},
   "outputs": [],
   "source": [
    "birth_data.columns = ['arrival_date', 'id', 'age', 'booking_status', 'parity', 'referred','delivery_date', 'delivery_mode', 'partograph_used', 'delivery_outcome', 'birth_weight', 'baby_sex', 'breastfeeding_time', 'chlorhexidine_applied']"
   ]
  },
  {
   "cell_type": "markdown",
   "id": "fcece58b-67f3-4700-b3f8-50eeeb2084e8",
   "metadata": {},
   "source": [
    "## Edit the columns data, replace nothing with Something valueable"
   ]
  },
  {
   "cell_type": "code",
   "execution_count": 269,
   "id": "9062da12-004f-49be-b255-e9c4a2ed593e",
   "metadata": {},
   "outputs": [],
   "source": [
    "birth_data.loc[(birth_data.referred != \"Yes\"), \"referred\"] = \"No\"\n",
    "birth_data.loc[(birth_data.partograph_used != \"Yes\"), \"partograph_used\"] = \"No\"\n",
    "birth_data.loc[(birth_data.chlorhexidine_applied != \"Yes\"), \"chlorhexidine_applied\"] = \"No\"\n",
    "birth_data.loc[(birth_data.breastfeeding_time != \"Within 1 hour of Delivery\"), \"breastfeeding_time\"] = \"Not within 1 hour of Delivery\"\n",
    "birth_data.loc[(birth_data.birth_weight > 6), \"birth_weight\"] = birth_data.birth_weight.mean()\n",
    "\n",
    "birth_data.fillna({\"age\": 30}, inplace=True)\n",
    "birth_data.fillna({\"delivery_outcome\": \"Still Birth\"}, inplace=True)\n",
    "birth_data.fillna({\"booking_status\": \"Unbooked\"}, inplace=True)\n",
    "birth_data.fillna({\"birth_weight\": birth_data.birth_weight.mean()}, inplace=True)"
   ]
  },
  {
   "cell_type": "markdown",
   "id": "141b8775-cc4e-4ebc-ba9c-b3228f05d775",
   "metadata": {},
   "source": [
    "## Sort the data in the dataframe by ID and overwrite the index"
   ]
  },
  {
   "cell_type": "code",
   "execution_count": 270,
   "id": "d0239c34-a257-4166-8261-226943ab8c38",
   "metadata": {},
   "outputs": [],
   "source": [
    "birth_data = birth_data.sort_values(by=\"id\").reset_index(drop=True)"
   ]
  },
  {
   "cell_type": "markdown",
   "id": "ece64bf1-3261-4e3c-aa6a-d55b9bd2a121",
   "metadata": {},
   "source": [
    "# Clean the ANC (Artenetal Care) data set"
   ]
  },
  {
   "cell_type": "code",
   "execution_count": 271,
   "id": "b7229268-6f32-42c1-a74e-c79dd0dd1ed2",
   "metadata": {},
   "outputs": [
    {
     "data": {
      "text/html": [
       "<div>\n",
       "<style scoped>\n",
       "    .dataframe tbody tr th:only-of-type {\n",
       "        vertical-align: middle;\n",
       "    }\n",
       "\n",
       "    .dataframe tbody tr th {\n",
       "        vertical-align: top;\n",
       "    }\n",
       "\n",
       "    .dataframe thead th {\n",
       "        text-align: right;\n",
       "    }\n",
       "</style>\n",
       "<table border=\"1\" class=\"dataframe\">\n",
       "  <thead>\n",
       "    <tr style=\"text-align: right;\">\n",
       "      <th></th>\n",
       "      <th>ID</th>\n",
       "      <th>Age</th>\n",
       "      <th>Literacy status</th>\n",
       "      <th>Parity</th>\n",
       "      <th>Gravidity</th>\n",
       "      <th>Occupation</th>\n",
       "      <th>Husband's Occupation</th>\n",
       "      <th>Antenatal clinic attendance</th>\n",
       "      <th>Age of pregnancy (in weeks)</th>\n",
       "      <th>Weight of patient (in Kg)</th>\n",
       "      <th>...</th>\n",
       "      <th>Associated Problems</th>\n",
       "      <th>Associated Problems/Healthy</th>\n",
       "      <th>Associated Problems/Cough</th>\n",
       "      <th>Associated Problems/Pain</th>\n",
       "      <th>Associated Problems/Stable</th>\n",
       "      <th>Associated Problems/Weakness</th>\n",
       "      <th>Associated Problems/Catarrh</th>\n",
       "      <th>Associated Problems/Others</th>\n",
       "      <th>Associated Problems/Fever</th>\n",
       "      <th>If others, specify</th>\n",
       "    </tr>\n",
       "  </thead>\n",
       "  <tbody>\n",
       "    <tr>\n",
       "      <th>0</th>\n",
       "      <td>037/24</td>\n",
       "      <td>25.0</td>\n",
       "      <td>Literate</td>\n",
       "      <td>0.0</td>\n",
       "      <td>1.0</td>\n",
       "      <td>NaN</td>\n",
       "      <td>Businessman</td>\n",
       "      <td>New (2024)</td>\n",
       "      <td>10.0</td>\n",
       "      <td>64.0</td>\n",
       "      <td>...</td>\n",
       "      <td>Others</td>\n",
       "      <td>0.0</td>\n",
       "      <td>0.0</td>\n",
       "      <td>0.0</td>\n",
       "      <td>0.0</td>\n",
       "      <td>0.0</td>\n",
       "      <td>0.0</td>\n",
       "      <td>1.0</td>\n",
       "      <td>NaN</td>\n",
       "      <td>Pre-bleeding</td>\n",
       "    </tr>\n",
       "    <tr>\n",
       "      <th>1</th>\n",
       "      <td>043/24</td>\n",
       "      <td>25.0</td>\n",
       "      <td>Literate</td>\n",
       "      <td>0.0</td>\n",
       "      <td>1.0</td>\n",
       "      <td>Hair dressing</td>\n",
       "      <td>Businessman</td>\n",
       "      <td>New (2024)</td>\n",
       "      <td>21.0</td>\n",
       "      <td>63.0</td>\n",
       "      <td>...</td>\n",
       "      <td>Pain</td>\n",
       "      <td>0.0</td>\n",
       "      <td>0.0</td>\n",
       "      <td>1.0</td>\n",
       "      <td>0.0</td>\n",
       "      <td>0.0</td>\n",
       "      <td>0.0</td>\n",
       "      <td>0.0</td>\n",
       "      <td>NaN</td>\n",
       "      <td>NaN</td>\n",
       "    </tr>\n",
       "    <tr>\n",
       "      <th>2</th>\n",
       "      <td>052/24</td>\n",
       "      <td>24.0</td>\n",
       "      <td>Literate</td>\n",
       "      <td>1.0</td>\n",
       "      <td>3.0</td>\n",
       "      <td>NaN</td>\n",
       "      <td>Driver</td>\n",
       "      <td>New (2024)</td>\n",
       "      <td>23.0</td>\n",
       "      <td>56.0</td>\n",
       "      <td>...</td>\n",
       "      <td>Pain</td>\n",
       "      <td>0.0</td>\n",
       "      <td>0.0</td>\n",
       "      <td>1.0</td>\n",
       "      <td>0.0</td>\n",
       "      <td>0.0</td>\n",
       "      <td>0.0</td>\n",
       "      <td>0.0</td>\n",
       "      <td>NaN</td>\n",
       "      <td>NaN</td>\n",
       "    </tr>\n",
       "    <tr>\n",
       "      <th>3</th>\n",
       "      <td>063/24</td>\n",
       "      <td>32.0</td>\n",
       "      <td>Literate</td>\n",
       "      <td>2.0</td>\n",
       "      <td>3.0</td>\n",
       "      <td>Teacher</td>\n",
       "      <td>Civil servant</td>\n",
       "      <td>New (2024)</td>\n",
       "      <td>12.0</td>\n",
       "      <td>80.0</td>\n",
       "      <td>...</td>\n",
       "      <td>Pain Weakness</td>\n",
       "      <td>0.0</td>\n",
       "      <td>0.0</td>\n",
       "      <td>1.0</td>\n",
       "      <td>0.0</td>\n",
       "      <td>1.0</td>\n",
       "      <td>0.0</td>\n",
       "      <td>0.0</td>\n",
       "      <td>NaN</td>\n",
       "      <td>NaN</td>\n",
       "    </tr>\n",
       "    <tr>\n",
       "      <th>4</th>\n",
       "      <td>105/24</td>\n",
       "      <td>36.0</td>\n",
       "      <td>Literate</td>\n",
       "      <td>3.0</td>\n",
       "      <td>4.0</td>\n",
       "      <td>NaN</td>\n",
       "      <td>Businessman</td>\n",
       "      <td>New (2024)</td>\n",
       "      <td>17.0</td>\n",
       "      <td>95.0</td>\n",
       "      <td>...</td>\n",
       "      <td>Cough</td>\n",
       "      <td>0.0</td>\n",
       "      <td>1.0</td>\n",
       "      <td>0.0</td>\n",
       "      <td>0.0</td>\n",
       "      <td>0.0</td>\n",
       "      <td>0.0</td>\n",
       "      <td>0.0</td>\n",
       "      <td>NaN</td>\n",
       "      <td>NaN</td>\n",
       "    </tr>\n",
       "  </tbody>\n",
       "</table>\n",
       "<p>5 rows × 32 columns</p>\n",
       "</div>"
      ],
      "text/plain": [
       "       ID   Age Literacy status  Parity  Gravidity    Occupation   \\\n",
       "0  037/24  25.0        Literate     0.0        1.0            NaN   \n",
       "1  043/24  25.0        Literate     0.0        1.0  Hair dressing   \n",
       "2  052/24  24.0        Literate     1.0        3.0            NaN   \n",
       "3  063/24  32.0        Literate     2.0        3.0        Teacher   \n",
       "4  105/24  36.0        Literate     3.0        4.0            NaN   \n",
       "\n",
       "  Husband's Occupation  Antenatal clinic attendance  \\\n",
       "0           Businessman                  New (2024)   \n",
       "1           Businessman                  New (2024)   \n",
       "2                Driver                  New (2024)   \n",
       "3         Civil servant                  New (2024)   \n",
       "4           Businessman                  New (2024)   \n",
       "\n",
       "   Age of pregnancy (in weeks)  Weight of patient (in Kg)  ...  \\\n",
       "0                         10.0                       64.0  ...   \n",
       "1                         21.0                       63.0  ...   \n",
       "2                         23.0                       56.0  ...   \n",
       "3                         12.0                       80.0  ...   \n",
       "4                         17.0                       95.0  ...   \n",
       "\n",
       "   Associated Problems  Associated Problems/Healthy  \\\n",
       "0               Others                          0.0   \n",
       "1                 Pain                          0.0   \n",
       "2                 Pain                          0.0   \n",
       "3        Pain Weakness                          0.0   \n",
       "4                Cough                          0.0   \n",
       "\n",
       "   Associated Problems/Cough Associated Problems/Pain  \\\n",
       "0                        0.0                      0.0   \n",
       "1                        0.0                      1.0   \n",
       "2                        0.0                      1.0   \n",
       "3                        0.0                      1.0   \n",
       "4                        1.0                      0.0   \n",
       "\n",
       "  Associated Problems/Stable Associated Problems/Weakness  \\\n",
       "0                        0.0                          0.0   \n",
       "1                        0.0                          0.0   \n",
       "2                        0.0                          0.0   \n",
       "3                        0.0                          1.0   \n",
       "4                        0.0                          0.0   \n",
       "\n",
       "  Associated Problems/Catarrh Associated Problems/Others  \\\n",
       "0                         0.0                        1.0   \n",
       "1                         0.0                        0.0   \n",
       "2                         0.0                        0.0   \n",
       "3                         0.0                        0.0   \n",
       "4                         0.0                        0.0   \n",
       "\n",
       "  Associated Problems/Fever If others, specify  \n",
       "0                       NaN       Pre-bleeding  \n",
       "1                       NaN                NaN  \n",
       "2                       NaN                NaN  \n",
       "3                       NaN                NaN  \n",
       "4                       NaN                NaN  \n",
       "\n",
       "[5 rows x 32 columns]"
      ]
     },
     "execution_count": 271,
     "metadata": {},
     "output_type": "execute_result"
    }
   ],
   "source": [
    "anc_data.head()"
   ]
  },
  {
   "cell_type": "code",
   "execution_count": 272,
   "id": "dfaf984e-9d5e-495f-ba9f-f8b12d8c5b10",
   "metadata": {},
   "outputs": [],
   "source": [
    "anc_data.columns = [\n",
    "    'id', 'age', 'literacy_status', 'parity', 'gravidity', 'occupation', \n",
    "    'husband_occupation', 'antenatal_attendance', 'pregnancy_age_weeks', \n",
    "    'weight_kg', 'systolic_bp', 'diastolic_bp', 'antenatal_visits_count', \n",
    "    'delivery_status', 'delivery_location', 'hiv_status', 'vdrl_syphilis', \n",
    "    'blood_group', 'elevated_glucose_during_pregnancy', 'hepatitis_b', \n",
    "    'last_ipt_dose', 'tetanus_vaccine', 'associated_problems', \n",
    "    'associated_problems_healthy', 'associated_problems_cough', \n",
    "    'associated_problems_pain', 'associated_problems_stable', \n",
    "    'associated_problems_weakness', 'associated_problems_catarrh', \n",
    "    'associated_problems_others', 'associated_problems_fever', \n",
    "    'others_specify'\n",
    "]"
   ]
  },
  {
   "cell_type": "code",
   "execution_count": 273,
   "id": "8de8ba00-faa3-47b9-84e2-d09bc2e8cf14",
   "metadata": {},
   "outputs": [],
   "source": [
    "# Merge the datasets on 'ID' column, keeping only the matching rows\n",
    "anc_filtered = anc_data.merge(birth_data[['id']], on='id', how='inner')"
   ]
  },
  {
   "cell_type": "code",
   "execution_count": 274,
   "id": "37794297-2b2e-40e4-85ea-39ee8ff08596",
   "metadata": {},
   "outputs": [
    {
     "data": {
      "text/plain": [
       "(123, 32)"
      ]
     },
     "execution_count": 274,
     "metadata": {},
     "output_type": "execute_result"
    }
   ],
   "source": [
    "anc_filtered.shape"
   ]
  },
  {
   "cell_type": "code",
   "execution_count": 275,
   "id": "f469b8bb-39d9-4bf1-9c66-3023c889a5d4",
   "metadata": {},
   "outputs": [
    {
     "data": {
      "text/plain": [
       "(161, 14)"
      ]
     },
     "execution_count": 275,
     "metadata": {},
     "output_type": "execute_result"
    }
   ],
   "source": [
    "birth_data.shape"
   ]
  },
  {
   "cell_type": "markdown",
   "id": "6dbefeed-6d96-4897-9120-73e3302360c9",
   "metadata": {},
   "source": [
    "# Time to answer tyhe questions given"
   ]
  },
  {
   "cell_type": "markdown",
   "id": "3075ce89-5fd6-4e59-af53-e4b46569c103",
   "metadata": {},
   "source": [
    "## What is the total number of deliveries recorded in the time period?"
   ]
  },
  {
   "cell_type": "code",
   "execution_count": 276,
   "id": "c6405367-8658-4508-9dd5-a36c0e051cc4",
   "metadata": {},
   "outputs": [
    {
     "data": {
      "text/plain": [
       "(161, 14)"
      ]
     },
     "execution_count": 276,
     "metadata": {},
     "output_type": "execute_result"
    }
   ],
   "source": [
    "birth_data.shape"
   ]
  },
  {
   "cell_type": "code",
   "execution_count": 277,
   "id": "07e45c75-1ddf-4929-9356-1a8ad18921ae",
   "metadata": {},
   "outputs": [
    {
     "data": {
      "text/plain": [
       "(123, 32)"
      ]
     },
     "execution_count": 277,
     "metadata": {},
     "output_type": "execute_result"
    }
   ],
   "source": [
    "anc_filtered.shape"
   ]
  },
  {
   "cell_type": "code",
   "execution_count": 278,
   "id": "39cec973-e99b-4db5-8cc0-2ef2f6b38c75",
   "metadata": {},
   "outputs": [
    {
     "data": {
      "text/plain": [
       "(498, 32)"
      ]
     },
     "execution_count": 278,
     "metadata": {},
     "output_type": "execute_result"
    }
   ],
   "source": [
    "anc_data.shape"
   ]
  },
  {
   "cell_type": "markdown",
   "id": "c5ccddec-78b1-4b4a-936c-72102ee55b21",
   "metadata": {},
   "source": [
    "## Is there any difference in birth weight between booked and unbooked patients delivery?"
   ]
  },
  {
   "cell_type": "code",
   "execution_count": 279,
   "id": "7beb12e8-e174-4b10-807e-afdb16d35fe6",
   "metadata": {},
   "outputs": [],
   "source": [
    "ttest_data = birth_data.loc[:, [\"booking_status\", \"birth_weight\"]]"
   ]
  },
  {
   "cell_type": "code",
   "execution_count": 280,
   "id": "c9421e62-6b51-461c-bc50-9f5accb5dd96",
   "metadata": {},
   "outputs": [
    {
     "data": {
      "text/html": [
       "<div>\n",
       "<style scoped>\n",
       "    .dataframe tbody tr th:only-of-type {\n",
       "        vertical-align: middle;\n",
       "    }\n",
       "\n",
       "    .dataframe tbody tr th {\n",
       "        vertical-align: top;\n",
       "    }\n",
       "\n",
       "    .dataframe thead th {\n",
       "        text-align: right;\n",
       "    }\n",
       "</style>\n",
       "<table border=\"1\" class=\"dataframe\">\n",
       "  <thead>\n",
       "    <tr style=\"text-align: right;\">\n",
       "      <th></th>\n",
       "      <th>booking_status</th>\n",
       "      <th>birth_weight</th>\n",
       "    </tr>\n",
       "  </thead>\n",
       "  <tbody>\n",
       "    <tr>\n",
       "      <th>0</th>\n",
       "      <td>Booked</td>\n",
       "      <td>3.6</td>\n",
       "    </tr>\n",
       "    <tr>\n",
       "      <th>1</th>\n",
       "      <td>Booked</td>\n",
       "      <td>3.0</td>\n",
       "    </tr>\n",
       "    <tr>\n",
       "      <th>2</th>\n",
       "      <td>Unbooked</td>\n",
       "      <td>3.0</td>\n",
       "    </tr>\n",
       "    <tr>\n",
       "      <th>3</th>\n",
       "      <td>Booked</td>\n",
       "      <td>4.0</td>\n",
       "    </tr>\n",
       "    <tr>\n",
       "      <th>4</th>\n",
       "      <td>Booked</td>\n",
       "      <td>3.3</td>\n",
       "    </tr>\n",
       "  </tbody>\n",
       "</table>\n",
       "</div>"
      ],
      "text/plain": [
       "  booking_status  birth_weight\n",
       "0         Booked           3.6\n",
       "1         Booked           3.0\n",
       "2       Unbooked           3.0\n",
       "3         Booked           4.0\n",
       "4         Booked           3.3"
      ]
     },
     "execution_count": 280,
     "metadata": {},
     "output_type": "execute_result"
    }
   ],
   "source": [
    "ttest_data.head()"
   ]
  },
  {
   "cell_type": "code",
   "execution_count": 281,
   "id": "3e30461e-a36b-4983-a727-e8347ba82022",
   "metadata": {},
   "outputs": [],
   "source": [
    "booked_birth_weight = ttest_data.loc[(ttest_data.booking_status == \"Booked\")].birth_weight\n",
    "\n",
    "unbooked_birth_weight =  ttest_data.loc[(ttest_data.booking_status == \"Unbooked\")].birth_weight"
   ]
  },
  {
   "cell_type": "code",
   "execution_count": 282,
   "id": "7336a072-9dd0-427c-b87d-2919de225803",
   "metadata": {},
   "outputs": [
    {
     "data": {
      "image/png": "[encoded data removed]",
      "text/plain": [
       "<Figure size 640x480 with 1 Axes>"
      ]
     },
     "metadata": {},
     "output_type": "display_data"
    }
   ],
   "source": [
    "import matplotlib.pyplot as plt\n",
    "import seaborn as sns\n",
    "\n",
    "# Create a box plot for 'Weight' based on 'Booking Status'\n",
    "plt.hist(ttest_data.birth_weight)\n",
    "plt.show()"
   ]
  },
  {
   "cell_type": "code",
   "execution_count": 283,
   "id": "71c2c92b-a5ce-45ee-a5fb-b02d4c48d528",
   "metadata": {},
   "outputs": [],
   "source": [
    "from scipy import stats"
   ]
  },
  {
   "cell_type": "code",
   "execution_count": 284,
   "id": "143169cb-c489-47f1-9fd4-5a1c675c40ba",
   "metadata": {},
   "outputs": [],
   "source": [
    "t_stat, p_value = stats.ttest_ind(booked_birth_weight, unbooked_birth_weight)"
   ]
  },
  {
   "cell_type": "code",
   "execution_count": 285,
   "id": "2c8959db-0a85-4f62-badf-d1b9840cb4d6",
   "metadata": {
    "scrolled": true
   },
   "outputs": [
    {
     "name": "stdout",
     "output_type": "stream",
     "text": [
      "T-statistic: -2.9569441422322744\n",
      "P-value: 0.003580918021100134\n"
     ]
    }
   ],
   "source": [
    "print(f\"T-statistic: {t_stat}\")\n",
    "print(f\"P-value: {p_value}\")"
   ]
  },
  {
   "cell_type": "code",
   "execution_count": 286,
   "id": "e468f10c-57ea-49c7-85f1-61e788e36c1e",
   "metadata": {},
   "outputs": [
    {
     "data": {
      "text/plain": [
       "array([3.6       , 3.        , 4.        , 3.3       , 3.39368704,\n",
       "       3.5       , 3.7       , 2.3       , 2.71      , 3.4       ,\n",
       "       2.8       , 3.1       , 3.8       , 2.5       , 3.2       ,\n",
       "       2.7       , 3.9       , 4.2       , 1.8       , 2.9       ,\n",
       "       2.        , 6.83731034])"
      ]
     },
     "execution_count": 286,
     "metadata": {},
     "output_type": "execute_result"
    }
   ],
   "source": [
    "booked_birth_weight.unique()"
   ]
  },
  {
   "cell_type": "code",
   "execution_count": 287,
   "id": "6cfe0f9d-4a4f-4e27-b48b-5788012fae62",
   "metadata": {},
   "outputs": [],
   "source": [
    "def get_trimester(age_weeks):\n",
    "    if 0 <= age_weeks <= 12:\n",
    "        return 'First Trimester'\n",
    "    elif 13 <= age_weeks <= 26:\n",
    "        return 'Second Trimester'\n",
    "    elif age_weeks >= 27:\n",
    "        return 'Third Trimester'\n",
    "\n",
    "\n",
    "booking_trimester = anc_filtered.pregnancy_age_weeks.apply(get_trimester)"
   ]
  },
  {
   "cell_type": "code",
   "execution_count": 288,
   "id": "27fe1d52-eb38-4a40-8566-de9dc616cc8a",
   "metadata": {},
   "outputs": [
    {
     "data": {
      "text/plain": [
       "0     First Trimester\n",
       "1     First Trimester\n",
       "2     First Trimester\n",
       "3    Second Trimester\n",
       "4     First Trimester\n",
       "Name: pregnancy_age_weeks, dtype: object"
      ]
     },
     "execution_count": 288,
     "metadata": {},
     "output_type": "execute_result"
    }
   ],
   "source": [
    "booking_trimester.head()"
   ]
  },
  {
   "cell_type": "code",
   "execution_count": 289,
   "id": "10b75227-e76a-48aa-9bc4-889f404afcb5",
   "metadata": {},
   "outputs": [],
   "source": [
    "maternal_booking_weight = anc_filtered.weight_kg"
   ]
  },
  {
   "cell_type": "code",
   "execution_count": 290,
   "id": "4b3599a1-d079-4e5d-b652-63b03cf79dc6",
   "metadata": {},
   "outputs": [
    {
     "data": {
      "text/plain": [
       "0     NaN\n",
       "1    60.0\n",
       "2    58.0\n",
       "3    60.0\n",
       "4    63.0\n",
       "Name: weight_kg, dtype: float64"
      ]
     },
     "execution_count": 290,
     "metadata": {},
     "output_type": "execute_result"
    }
   ],
   "source": [
    "maternal_booking_weight.head()"
   ]
  },
  {
   "cell_type": "code",
   "execution_count": 292,
   "id": "a3d90fcf-84ec-40d4-8ddd-7aa6b200252d",
   "metadata": {},
   "outputs": [],
   "source": [
    "birth_weight = birth_data.merge(anc_data[['id']], on='id', how='inner').birth_weight"
   ]
  },
  {
   "cell_type": "code",
   "execution_count": 293,
   "id": "639a416d-d411-4768-9479-82857252a6e2",
   "metadata": {},
   "outputs": [
    {
     "data": {
      "text/plain": [
       "0      74.042017\n",
       "1      60.000000\n",
       "2      58.000000\n",
       "3      60.000000\n",
       "4      63.000000\n",
       "         ...    \n",
       "118    63.000000\n",
       "119    74.000000\n",
       "120    65.000000\n",
       "121    60.000000\n",
       "122    86.000000\n",
       "Name: weight_kg, Length: 123, dtype: float64"
      ]
     },
     "execution_count": 293,
     "metadata": {},
     "output_type": "execute_result"
    }
   ],
   "source": [
    "maternal_booking_weight.fillna(maternal_booking_weight.mean())"
   ]
  },
  {
   "cell_type": "code",
   "execution_count": 316,
   "id": "519d5dff-cb5e-43e2-9244-74436069603d",
   "metadata": {},
   "outputs": [],
   "source": [
    "booking_trimester.fillna(\"Second Trimester\")\n",
    "\n",
    "booking_trimester = booking_trimester.apply(lambda x: \"Second Trimester\" if x is None else x)"
   ]
  },
  {
   "cell_type": "code",
   "execution_count": 317,
   "id": "637b0da9-f731-4fb3-9fd1-dbc8ceea9581",
   "metadata": {},
   "outputs": [
    {
     "data": {
      "text/plain": [
       "array([3.6       , 3.        , 4.        , 3.3       , 3.5       ,\n",
       "       3.39368704, 3.4       , 3.7       , 3.2       , 2.5       ,\n",
       "       6.83731034, 2.3       , 2.71      , 4.3       , 2.8       ,\n",
       "       3.1       , 3.8       , 4.1       , 2.7       , 3.9       ,\n",
       "       4.5       , 1.8       , 2.9       , 2.        , 4.9       ])"
      ]
     },
     "execution_count": 317,
     "metadata": {},
     "output_type": "execute_result"
    }
   ],
   "source": [
    "birth_weight.unique()"
   ]
  },
  {
   "cell_type": "code",
   "execution_count": 318,
   "id": "44dc2ec9-e058-4b05-8bf5-ff687f09f151",
   "metadata": {},
   "outputs": [
    {
     "data": {
      "text/plain": [
       "array(['First Trimester', 'Second Trimester', 'Third Trimester', <NA>],\n",
       "      dtype=object)"
      ]
     },
     "execution_count": 318,
     "metadata": {},
     "output_type": "execute_result"
    }
   ],
   "source": [
    "booking_trimester.unique()"
   ]
  },
  {
   "cell_type": "code",
   "execution_count": null,
   "id": "48668e4d-25d5-4667-b022-3eeb79d23f34",
   "metadata": {},
   "outputs": [],
   "source": []
  }
 ],
 "metadata": {
  "kernelspec": {
   "display_name": "Python 3 (ipykernel)",
   "language": "python",
   "name": "python3"
  },
  "language_info": {
   "codemirror_mode": {
    "name": "ipython",
    "version": 3
   },
   "file_extension": ".py",
   "mimetype": "text/x-python",
   "name": "python",
   "nbconvert_exporter": "python",
   "pygments_lexer": "ipython3",
   "version": "3.12.7"
  }
 },
 "nbformat": 4,
 "nbformat_minor": 5
}
