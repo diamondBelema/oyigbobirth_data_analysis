import openpyxl
import pandas as pd





birth_data = pd.read_excel("BIRTH, Oyigbo data.xlsx", engine='openpyxl')





xls = pd.ExcelFile("ANC AND DELIVERY DATA.xlsx", engine='openpyxl')
print(xls.sheet_names)


anc_data = pd.read_excel(xls, sheet_name="ANCdata 2")





birth_data.head()


birth_data.shape








birth_data.columns = ['arrival_date', 'id', 'age', 'booking_status', 'parity', 'referred','delivery_date', 'delivery_mode', 'partograph_used', 'delivery_outcome', 'birth_weight', 'baby_sex', 'breastfeeding_time', 'chlorhexidine_applied']





birth_data.loc[(birth_data.referred != "Yes"), "referred"] = "No"
birth_data.loc[(birth_data.partograph_used != "Yes"), "partograph_used"] = "No"
birth_data.loc[(birth_data.chlorhexidine_applied != "Yes"), "chlorhexidine_applied"] = "No"
birth_data.loc[(birth_data.breastfeeding_time != "Within 1 hour of Delivery"), "breastfeeding_time"] = "Not within 1 hour of Delivery"
birth_data.loc[(birth_data.birth_weight > 6), "birth_weight"] = birth_data.birth_weight.mean()

birth_data.fillna({"age": 30}, inplace=True)
birth_data.fillna({"delivery_outcome": "Still Birth"}, inplace=True)
birth_data.fillna({"booking_status": "Unbooked"}, inplace=True)
birth_data.fillna({"birth_weight": birth_data.birth_weight.mean()}, inplace=True)





birth_data = birth_data.sort_values(by="id").reset_index(drop=True)





anc_data.head()


anc_data.columns = [
    'id', 'age', 'literacy_status', 'parity', 'gravidity', 'occupation', 
    'husband_occupation', 'antenatal_attendance', 'pregnancy_age_weeks', 
    'weight_kg', 'systolic_bp', 'diastolic_bp', 'antenatal_visits_count', 
    'delivery_status', 'delivery_location', 'hiv_status', 'vdrl_syphilis', 
    'blood_group', 'elevated_glucose_during_pregnancy', 'hepatitis_b', 
    'last_ipt_dose', 'tetanus_vaccine', 'associated_problems', 
    'associated_problems_healthy', 'associated_problems_cough', 
    'associated_problems_pain', 'associated_problems_stable', 
    'associated_problems_weakness', 'associated_problems_catarrh', 
    'associated_problems_others', 'associated_problems_fever', 
    'others_specify'
]


# Merge the datasets on 'ID' column, keeping only the matching rows
anc_filtered = anc_data.merge(birth_data[['id']], on='id', how='inner')


anc_filtered.shape


birth_data.shape








birth_data.shape


anc_filtered.shape


anc_data.shape





ttest_data = birth_data.loc[:, ["booking_status", "birth_weight"]]


ttest_data.head()


booked_birth_weight = ttest_data.loc[(ttest_data.booking_status == "Booked")].birth_weight

unbooked_birth_weight =  ttest_data.loc[(ttest_data.booking_status == "Unbooked")].birth_weight


import matplotlib.pyplot as plt
import seaborn as sns

# Create a box plot for 'Weight' based on 'Booking Status'
plt.hist(ttest_data.birth_weight)
plt.show()


from scipy import stats


t_stat, p_value = stats.ttest_ind(booked_birth_weight, unbooked_birth_weight)


print(f"T-statistic: {t_stat}")
print(f"P-value: {p_value}")


booked_birth_weight.unique()


def get_trimester(age_weeks):
    if 0 <= age_weeks <= 12:
        return 'First Trimester'
    elif 13 <= age_weeks <= 26:
        return 'Second Trimester'
    elif age_weeks >= 27:
        return 'Third Trimester'


booking_trimester = anc_filtered.pregnancy_age_weeks.apply(get_trimester)


booking_trimester.head()


maternal_booking_weight = anc_filtered.weight_kg


maternal_booking_weight.head()


birth_weight = birth_data.merge(anc_data[['id']], on='id', how='inner').birth_weight


maternal_booking_weight.fillna(maternal_booking_weight.mean())


booking_trimester.fillna("Second Trimester")

booking_trimester = booking_trimester.apply(lambda x: "Second Trimester" if x is None else x)


birth_weight.unique()


booking_trimester.unique()



