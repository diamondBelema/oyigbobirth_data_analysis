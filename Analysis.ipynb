{
  "cells": [
    {
      "cell_type": "code",
      "execution_count": 19,
      "id": "915ec5ab-c8ce-49b4-9edd-acd40a8b4c85",
      "metadata": {
        "id": "915ec5ab-c8ce-49b4-9edd-acd40a8b4c85"
      },
      "outputs": [],
      "source": [
        "import openpyxl\n",
        "import pandas as pd"
      ]
    },
    {
      "cell_type": "markdown",
      "id": "77f22b86-5b89-47cb-9130-3909be8b14de",
      "metadata": {
        "id": "77f22b86-5b89-47cb-9130-3909be8b14de"
      },
      "source": [
        "## Load the birth data excel sheet"
      ]
    },
    {
      "cell_type": "code",
      "execution_count": 20,
      "id": "be8eebb1-5a19-43c7-9cbd-e81afb626038",
      "metadata": {
        "id": "be8eebb1-5a19-43c7-9cbd-e81afb626038"
      },
      "outputs": [],
      "source": [
        "birth_data = pd.read_excel(\"BIRTH, Oyigbo data.xlsx\", engine='openpyxl')"
      ]
    },
    {
      "cell_type": "markdown",
      "id": "3710f7dc-889c-4146-b061-1b68b12346cc",
      "metadata": {
        "id": "3710f7dc-889c-4146-b061-1b68b12346cc"
      },
      "source": [
        "## Load The Delivery data excel sheet"
      ]
    },
    {
      "cell_type": "code",
      "execution_count": 21,
      "id": "d4f0d42f-a090-424c-afc5-3c206f9491b0",
      "metadata": {
        "colab": {
          "base_uri": "https://localhost:8080/"
        },
        "id": "d4f0d42f-a090-424c-afc5-3c206f9491b0",
        "outputId": "2270d11f-2b68-4266-c2ea-31f29b6fd16c"
      },
      "outputs": [
        {
          "output_type": "stream",
          "name": "stdout",
          "text": [
            "['Merger 3', 'ANCdata 2', 'BIRTHdata 2']\n"
          ]
        }
      ],
      "source": [
        "xls = pd.ExcelFile(\"ANC AND DELIVERY DATA.xlsx\", engine='openpyxl')\n",
        "print(xls.sheet_names)"
      ]
    },
    {
      "cell_type": "code",
      "execution_count": 22,
      "id": "db4ad838-25db-4522-8756-810026d11cb6",
      "metadata": {
        "id": "db4ad838-25db-4522-8756-810026d11cb6"
      },
      "outputs": [],
      "source": [
        "anc_data = pd.read_excel(xls, sheet_name=\"ANCdata 2\")"
      ]
    },
    {
      "cell_type": "markdown",
      "id": "921ea2d0-a18f-4b1f-9185-2c30f4824588",
      "metadata": {
        "id": "921ea2d0-a18f-4b1f-9185-2c30f4824588"
      },
      "source": [
        "## Get an overview of the data"
      ]
    },
    {
      "cell_type": "code",
      "execution_count": 23,
      "id": "6d389694-239f-4685-a579-e7c577fa083c",
      "metadata": {
        "colab": {
          "base_uri": "https://localhost:8080/",
          "height": 556
        },
        "id": "6d389694-239f-4685-a579-e7c577fa083c",
        "outputId": "8d4ce315-859d-483b-d8ab-19f4e0f57dda"
      },
      "outputs": [
        {
          "output_type": "execute_result",
          "data": {
            "text/plain": [
              "  Date of  Arrival      ID   Age Booking Status  Parity Date of Delivery  \\\n",
              "0       2024-01-02  235/23  34.0         Booked     3.0       2024-01-02   \n",
              "1       2024-01-02  385/23  26.0         Booked     2.0       2024-01-02   \n",
              "2       2024-01-09  360/23  40.0         Booked     4.0       2024-01-09   \n",
              "3       2024-01-17  456/23  27.0         Booked     3.0       2024-01-17   \n",
              "4       2024-01-02  490/23  23.0         Booked     1.0       2024-01-03   \n",
              "\n",
              "                    Mode of Delivery Partograph Used Outcome of Delivery  \\\n",
              "0  Spontaneous Vertex Delivery (SVD)             Yes          Live Birth   \n",
              "1  Spontaneous Vertex Delivery (SVD)             Yes          Live Birth   \n",
              "2  Spontaneous Vertex Delivery (SVD)             Yes          Live Birth   \n",
              "3  Spontaneous Vertex Delivery (SVD)             Yes          Live Birth   \n",
              "4  Spontaneous Vertex Delivery (SVD)             Yes          Live Birth   \n",
              "\n",
              "   Birth Weight in Kg Sex of Baby Time of putting baby to breast  \\\n",
              "0                 2.5      Female                            NaN   \n",
              "1                 3.4      Female                            NaN   \n",
              "2                 3.0        Male                            NaN   \n",
              "3                 3.2      Female                            NaN   \n",
              "4                 3.0        Male                            NaN   \n",
              "\n",
              "  Was 4% Chlorhexidine gel applied to cord at birth?  \n",
              "0                                                NaN  \n",
              "1                                                NaN  \n",
              "2                                                NaN  \n",
              "3                                                NaN  \n",
              "4                                                NaN  "
            ],
            "text/html": [
              "\n",
              "  <div id=\"df-90c1b5bd-4bc3-4c77-b45c-3fc6b1bcde81\" class=\"colab-df-container\">\n",
              "    <div>\n",
              "<style scoped>\n",
              "    .dataframe tbody tr th:only-of-type {\n",
              "        vertical-align: middle;\n",
              "    }\n",
              "\n",
              "    .dataframe tbody tr th {\n",
              "        vertical-align: top;\n",
              "    }\n",
              "\n",
              "    .dataframe thead th {\n",
              "        text-align: right;\n",
              "    }\n",
              "</style>\n",
              "<table border=\"1\" class=\"dataframe\">\n",
              "  <thead>\n",
              "    <tr style=\"text-align: right;\">\n",
              "      <th></th>\n",
              "      <th>Date of  Arrival</th>\n",
              "      <th>ID</th>\n",
              "      <th>Age</th>\n",
              "      <th>Booking Status</th>\n",
              "      <th>Parity</th>\n",
              "      <th>Date of Delivery</th>\n",
              "      <th>Mode of Delivery</th>\n",
              "      <th>Partograph Used</th>\n",
              "      <th>Outcome of Delivery</th>\n",
              "      <th>Birth Weight in Kg</th>\n",
              "      <th>Sex of Baby</th>\n",
              "      <th>Time of putting baby to breast</th>\n",
              "      <th>Was 4% Chlorhexidine gel applied to cord at birth?</th>\n",
              "    </tr>\n",
              "  </thead>\n",
              "  <tbody>\n",
              "    <tr>\n",
              "      <th>0</th>\n",
              "      <td>2024-01-02</td>\n",
              "      <td>235/23</td>\n",
              "      <td>34.0</td>\n",
              "      <td>Booked</td>\n",
              "      <td>3.0</td>\n",
              "      <td>2024-01-02</td>\n",
              "      <td>Spontaneous Vertex Delivery (SVD)</td>\n",
              "      <td>Yes</td>\n",
              "      <td>Live Birth</td>\n",
              "      <td>2.5</td>\n",
              "      <td>Female</td>\n",
              "      <td>NaN</td>\n",
              "      <td>NaN</td>\n",
              "    </tr>\n",
              "    <tr>\n",
              "      <th>1</th>\n",
              "      <td>2024-01-02</td>\n",
              "      <td>385/23</td>\n",
              "      <td>26.0</td>\n",
              "      <td>Booked</td>\n",
              "      <td>2.0</td>\n",
              "      <td>2024-01-02</td>\n",
              "      <td>Spontaneous Vertex Delivery (SVD)</td>\n",
              "      <td>Yes</td>\n",
              "      <td>Live Birth</td>\n",
              "      <td>3.4</td>\n",
              "      <td>Female</td>\n",
              "      <td>NaN</td>\n",
              "      <td>NaN</td>\n",
              "    </tr>\n",
              "    <tr>\n",
              "      <th>2</th>\n",
              "      <td>2024-01-09</td>\n",
              "      <td>360/23</td>\n",
              "      <td>40.0</td>\n",
              "      <td>Booked</td>\n",
              "      <td>4.0</td>\n",
              "      <td>2024-01-09</td>\n",
              "      <td>Spontaneous Vertex Delivery (SVD)</td>\n",
              "      <td>Yes</td>\n",
              "      <td>Live Birth</td>\n",
              "      <td>3.0</td>\n",
              "      <td>Male</td>\n",
              "      <td>NaN</td>\n",
              "      <td>NaN</td>\n",
              "    </tr>\n",
              "    <tr>\n",
              "      <th>3</th>\n",
              "      <td>2024-01-17</td>\n",
              "      <td>456/23</td>\n",
              "      <td>27.0</td>\n",
              "      <td>Booked</td>\n",
              "      <td>3.0</td>\n",
              "      <td>2024-01-17</td>\n",
              "      <td>Spontaneous Vertex Delivery (SVD)</td>\n",
              "      <td>Yes</td>\n",
              "      <td>Live Birth</td>\n",
              "      <td>3.2</td>\n",
              "      <td>Female</td>\n",
              "      <td>NaN</td>\n",
              "      <td>NaN</td>\n",
              "    </tr>\n",
              "    <tr>\n",
              "      <th>4</th>\n",
              "      <td>2024-01-02</td>\n",
              "      <td>490/23</td>\n",
              "      <td>23.0</td>\n",
              "      <td>Booked</td>\n",
              "      <td>1.0</td>\n",
              "      <td>2024-01-03</td>\n",
              "      <td>Spontaneous Vertex Delivery (SVD)</td>\n",
              "      <td>Yes</td>\n",
              "      <td>Live Birth</td>\n",
              "      <td>3.0</td>\n",
              "      <td>Male</td>\n",
              "      <td>NaN</td>\n",
              "      <td>NaN</td>\n",
              "    </tr>\n",
              "  </tbody>\n",
              "</table>\n",
              "</div>\n",
              "    <div class=\"colab-df-buttons\">\n",
              "\n",
              "  <div class=\"colab-df-container\">\n",
              "    <button class=\"colab-df-convert\" onclick=\"convertToInteractive('df-90c1b5bd-4bc3-4c77-b45c-3fc6b1bcde81')\"\n",
              "            title=\"Convert this dataframe to an interactive table.\"\n",
              "            style=\"display:none;\">\n",
              "\n",
              "  <svg xmlns=\"http://www.w3.org/2000/svg\" height=\"24px\" viewBox=\"0 -960 960 960\">\n",
              "    <path d=\"M120-120v-720h720v720H120Zm60-500h600v-160H180v160Zm220 220h160v-160H400v160Zm0 220h160v-160H400v160ZM180-400h160v-160H180v160Zm440 0h160v-160H620v160ZM180-180h160v-160H180v160Zm440 0h160v-160H620v160Z\"/>\n",
              "  </svg>\n",
              "    </button>\n",
              "\n",
              "  <style>\n",
              "    .colab-df-container {\n",
              "      display:flex;\n",
              "      gap: 12px;\n",
              "    }\n",
              "\n",
              "    .colab-df-convert {\n",
              "      background-color: #E8F0FE;\n",
              "      border: none;\n",
              "      border-radius: 50%;\n",
              "      cursor: pointer;\n",
              "      display: none;\n",
              "      fill: #1967D2;\n",
              "      height: 32px;\n",
              "      padding: 0 0 0 0;\n",
              "      width: 32px;\n",
              "    }\n",
              "\n",
              "    .colab-df-convert:hover {\n",
              "      background-color: #E2EBFA;\n",
              "      box-shadow: 0px 1px 2px rgba(60, 64, 67, 0.3), 0px 1px 3px 1px rgba(60, 64, 67, 0.15);\n",
              "      fill: #174EA6;\n",
              "    }\n",
              "\n",
              "    .colab-df-buttons div {\n",
              "      margin-bottom: 4px;\n",
              "    }\n",
              "\n",
              "    [theme=dark] .colab-df-convert {\n",
              "      background-color: #3B4455;\n",
              "      fill: #D2E3FC;\n",
              "    }\n",
              "\n",
              "    [theme=dark] .colab-df-convert:hover {\n",
              "      background-color: #434B5C;\n",
              "      box-shadow: 0px 1px 3px 1px rgba(0, 0, 0, 0.15);\n",
              "      filter: drop-shadow(0px 1px 2px rgba(0, 0, 0, 0.3));\n",
              "      fill: #FFFFFF;\n",
              "    }\n",
              "  </style>\n",
              "\n",
              "    <script>\n",
              "      const buttonEl =\n",
              "        document.querySelector('#df-90c1b5bd-4bc3-4c77-b45c-3fc6b1bcde81 button.colab-df-convert');\n",
              "      buttonEl.style.display =\n",
              "        google.colab.kernel.accessAllowed ? 'block' : 'none';\n",
              "\n",
              "      async function convertToInteractive(key) {\n",
              "        const element = document.querySelector('#df-90c1b5bd-4bc3-4c77-b45c-3fc6b1bcde81');\n",
              "        const dataTable =\n",
              "          await google.colab.kernel.invokeFunction('convertToInteractive',\n",
              "                                                    [key], {});\n",
              "        if (!dataTable) return;\n",
              "\n",
              "        const docLinkHtml = 'Like what you see? Visit the ' +\n",
              "          '<a target=\"_blank\" href=https://colab.research.google.com/notebooks/data_table.ipynb>data table notebook</a>'\n",
              "          + ' to learn more about interactive tables.';\n",
              "        element.innerHTML = '';\n",
              "        dataTable['output_type'] = 'display_data';\n",
              "        await google.colab.output.renderOutput(dataTable, element);\n",
              "        const docLink = document.createElement('div');\n",
              "        docLink.innerHTML = docLinkHtml;\n",
              "        element.appendChild(docLink);\n",
              "      }\n",
              "    </script>\n",
              "  </div>\n",
              "\n",
              "\n",
              "<div id=\"df-1f6a0138-671a-4f60-9977-671f2a99b0d0\">\n",
              "  <button class=\"colab-df-quickchart\" onclick=\"quickchart('df-1f6a0138-671a-4f60-9977-671f2a99b0d0')\"\n",
              "            title=\"Suggest charts\"\n",
              "            style=\"display:none;\">\n",
              "\n",
              "<svg xmlns=\"http://www.w3.org/2000/svg\" height=\"24px\"viewBox=\"0 0 24 24\"\n",
              "     width=\"24px\">\n",
              "    <g>\n",
              "        <path d=\"M19 3H5c-1.1 0-2 .9-2 2v14c0 1.1.9 2 2 2h14c1.1 0 2-.9 2-2V5c0-1.1-.9-2-2-2zM9 17H7v-7h2v7zm4 0h-2V7h2v10zm4 0h-2v-4h2v4z\"/>\n",
              "    </g>\n",
              "</svg>\n",
              "  </button>\n",
              "\n",
              "<style>\n",
              "  .colab-df-quickchart {\n",
              "      --bg-color: #E8F0FE;\n",
              "      --fill-color: #1967D2;\n",
              "      --hover-bg-color: #E2EBFA;\n",
              "      --hover-fill-color: #174EA6;\n",
              "      --disabled-fill-color: #AAA;\n",
              "      --disabled-bg-color: #DDD;\n",
              "  }\n",
              "\n",
              "  [theme=dark] .colab-df-quickchart {\n",
              "      --bg-color: #3B4455;\n",
              "      --fill-color: #D2E3FC;\n",
              "      --hover-bg-color: #434B5C;\n",
              "      --hover-fill-color: #FFFFFF;\n",
              "      --disabled-bg-color: #3B4455;\n",
              "      --disabled-fill-color: #666;\n",
              "  }\n",
              "\n",
              "  .colab-df-quickchart {\n",
              "    background-color: var(--bg-color);\n",
              "    border: none;\n",
              "    border-radius: 50%;\n",
              "    cursor: pointer;\n",
              "    display: none;\n",
              "    fill: var(--fill-color);\n",
              "    height: 32px;\n",
              "    padding: 0;\n",
              "    width: 32px;\n",
              "  }\n",
              "\n",
              "  .colab-df-quickchart:hover {\n",
              "    background-color: var(--hover-bg-color);\n",
              "    box-shadow: 0 1px 2px rgba(60, 64, 67, 0.3), 0 1px 3px 1px rgba(60, 64, 67, 0.15);\n",
              "    fill: var(--button-hover-fill-color);\n",
              "  }\n",
              "\n",
              "  .colab-df-quickchart-complete:disabled,\n",
              "  .colab-df-quickchart-complete:disabled:hover {\n",
              "    background-color: var(--disabled-bg-color);\n",
              "    fill: var(--disabled-fill-color);\n",
              "    box-shadow: none;\n",
              "  }\n",
              "\n",
              "  .colab-df-spinner {\n",
              "    border: 2px solid var(--fill-color);\n",
              "    border-color: transparent;\n",
              "    border-bottom-color: var(--fill-color);\n",
              "    animation:\n",
              "      spin 1s steps(1) infinite;\n",
              "  }\n",
              "\n",
              "  @keyframes spin {\n",
              "    0% {\n",
              "      border-color: transparent;\n",
              "      border-bottom-color: var(--fill-color);\n",
              "      border-left-color: var(--fill-color);\n",
              "    }\n",
              "    20% {\n",
              "      border-color: transparent;\n",
              "      border-left-color: var(--fill-color);\n",
              "      border-top-color: var(--fill-color);\n",
              "    }\n",
              "    30% {\n",
              "      border-color: transparent;\n",
              "      border-left-color: var(--fill-color);\n",
              "      border-top-color: var(--fill-color);\n",
              "      border-right-color: var(--fill-color);\n",
              "    }\n",
              "    40% {\n",
              "      border-color: transparent;\n",
              "      border-right-color: var(--fill-color);\n",
              "      border-top-color: var(--fill-color);\n",
              "    }\n",
              "    60% {\n",
              "      border-color: transparent;\n",
              "      border-right-color: var(--fill-color);\n",
              "    }\n",
              "    80% {\n",
              "      border-color: transparent;\n",
              "      border-right-color: var(--fill-color);\n",
              "      border-bottom-color: var(--fill-color);\n",
              "    }\n",
              "    90% {\n",
              "      border-color: transparent;\n",
              "      border-bottom-color: var(--fill-color);\n",
              "    }\n",
              "  }\n",
              "</style>\n",
              "\n",
              "  <script>\n",
              "    async function quickchart(key) {\n",
              "      const quickchartButtonEl =\n",
              "        document.querySelector('#' + key + ' button');\n",
              "      quickchartButtonEl.disabled = true;  // To prevent multiple clicks.\n",
              "      quickchartButtonEl.classList.add('colab-df-spinner');\n",
              "      try {\n",
              "        const charts = await google.colab.kernel.invokeFunction(\n",
              "            'suggestCharts', [key], {});\n",
              "      } catch (error) {\n",
              "        console.error('Error during call to suggestCharts:', error);\n",
              "      }\n",
              "      quickchartButtonEl.classList.remove('colab-df-spinner');\n",
              "      quickchartButtonEl.classList.add('colab-df-quickchart-complete');\n",
              "    }\n",
              "    (() => {\n",
              "      let quickchartButtonEl =\n",
              "        document.querySelector('#df-1f6a0138-671a-4f60-9977-671f2a99b0d0 button');\n",
              "      quickchartButtonEl.style.display =\n",
              "        google.colab.kernel.accessAllowed ? 'block' : 'none';\n",
              "    })();\n",
              "  </script>\n",
              "</div>\n",
              "\n",
              "    </div>\n",
              "  </div>\n"
            ],
            "application/vnd.google.colaboratory.intrinsic+json": {
              "type": "dataframe",
              "variable_name": "birth_data",
              "summary": "{\n  \"name\": \"birth_data\",\n  \"rows\": 161,\n  \"fields\": [\n    {\n      \"column\": \"Date of  Arrival\",\n      \"properties\": {\n        \"dtype\": \"date\",\n        \"min\": \"2024-01-02 00:00:00\",\n        \"max\": \"2025-03-28 00:00:00\",\n        \"num_unique_values\": 122,\n        \"samples\": [\n          \"2024-02-26 00:00:00\",\n          \"2024-05-09 00:00:00\",\n          \"2024-05-12 00:00:00\"\n        ],\n        \"semantic_type\": \"\",\n        \"description\": \"\"\n      }\n    },\n    {\n      \"column\": \"ID\",\n      \"properties\": {\n        \"dtype\": \"string\",\n        \"num_unique_values\": 161,\n        \"samples\": [\n          \"054/24\",\n          \"399/24\",\n          \"207/24\"\n        ],\n        \"semantic_type\": \"\",\n        \"description\": \"\"\n      }\n    },\n    {\n      \"column\": \"Age\",\n      \"properties\": {\n        \"dtype\": \"number\",\n        \"std\": 5.582792895093995,\n        \"min\": 16.0,\n        \"max\": 45.0,\n        \"num_unique_values\": 29,\n        \"samples\": [\n          36.0,\n          45.0,\n          37.0\n        ],\n        \"semantic_type\": \"\",\n        \"description\": \"\"\n      }\n    },\n    {\n      \"column\": \"Booking Status\",\n      \"properties\": {\n        \"dtype\": \"category\",\n        \"num_unique_values\": 2,\n        \"samples\": [\n          \"Unbooked\",\n          \"Booked\"\n        ],\n        \"semantic_type\": \"\",\n        \"description\": \"\"\n      }\n    },\n    {\n      \"column\": \"Parity\",\n      \"properties\": {\n        \"dtype\": \"number\",\n        \"std\": 1.2815744029090042,\n        \"min\": 0.0,\n        \"max\": 6.0,\n        \"num_unique_values\": 7,\n        \"samples\": [\n          3.0,\n          2.0\n        ],\n        \"semantic_type\": \"\",\n        \"description\": \"\"\n      }\n    },\n    {\n      \"column\": \"Date of Delivery\",\n      \"properties\": {\n        \"dtype\": \"date\",\n        \"min\": \"2024-01-02 00:00:00\",\n        \"max\": \"2025-07-23 00:00:00\",\n        \"num_unique_values\": 85,\n        \"samples\": [\n          \"2024-12-01 00:00:00\",\n          \"2024-01-02 00:00:00\"\n        ],\n        \"semantic_type\": \"\",\n        \"description\": \"\"\n      }\n    },\n    {\n      \"column\": \"Mode of Delivery\",\n      \"properties\": {\n        \"dtype\": \"category\",\n        \"num_unique_values\": 1,\n        \"samples\": [\n          \"Spontaneous Vertex Delivery (SVD)\"\n        ],\n        \"semantic_type\": \"\",\n        \"description\": \"\"\n      }\n    },\n    {\n      \"column\": \"Partograph Used\",\n      \"properties\": {\n        \"dtype\": \"category\",\n        \"num_unique_values\": 1,\n        \"samples\": [\n          \"Yes\"\n        ],\n        \"semantic_type\": \"\",\n        \"description\": \"\"\n      }\n    },\n    {\n      \"column\": \"Outcome of Delivery\",\n      \"properties\": {\n        \"dtype\": \"category\",\n        \"num_unique_values\": 2,\n        \"samples\": [\n          \"Still Birth\"\n        ],\n        \"semantic_type\": \"\",\n        \"description\": \"\"\n      }\n    },\n    {\n      \"column\": \"Birth Weight in Kg\",\n      \"properties\": {\n        \"dtype\": \"number\",\n        \"std\": 30.17816956692307,\n        \"min\": 1.8,\n        \"max\": 305.0,\n        \"num_unique_values\": 26,\n        \"samples\": [\n          2.9\n        ],\n        \"semantic_type\": \"\",\n        \"description\": \"\"\n      }\n    },\n    {\n      \"column\": \"Sex of Baby\",\n      \"properties\": {\n        \"dtype\": \"category\",\n        \"num_unique_values\": 2,\n        \"samples\": [\n          \"Male\"\n        ],\n        \"semantic_type\": \"\",\n        \"description\": \"\"\n      }\n    },\n    {\n      \"column\": \"Time of putting baby to breast\",\n      \"properties\": {\n        \"dtype\": \"category\",\n        \"num_unique_values\": 1,\n        \"samples\": [\n          \"Within 1 hour of Delivery\"\n        ],\n        \"semantic_type\": \"\",\n        \"description\": \"\"\n      }\n    },\n    {\n      \"column\": \"Was 4% Chlorhexidine gel applied to cord at birth?\",\n      \"properties\": {\n        \"dtype\": \"category\",\n        \"num_unique_values\": 1,\n        \"samples\": [\n          \"Yes\"\n        ],\n        \"semantic_type\": \"\",\n        \"description\": \"\"\n      }\n    }\n  ]\n}"
            }
          },
          "metadata": {},
          "execution_count": 23
        }
      ],
      "source": [
        "birth_data.head()"
      ]
    },
    {
      "cell_type": "code",
      "execution_count": 24,
      "id": "26b7242d-4de1-451d-996c-ecde61eae2a5",
      "metadata": {
        "colab": {
          "base_uri": "https://localhost:8080/"
        },
        "id": "26b7242d-4de1-451d-996c-ecde61eae2a5",
        "outputId": "98491dd3-9a94-4348-f415-b102d00063eb"
      },
      "outputs": [
        {
          "output_type": "execute_result",
          "data": {
            "text/plain": [
              "(161, 13)"
            ]
          },
          "metadata": {},
          "execution_count": 24
        }
      ],
      "source": [
        "birth_data.shape"
      ]
    },
    {
      "cell_type": "markdown",
      "id": "c607faee-694b-47c0-bf5a-6d29467d438e",
      "metadata": {
        "id": "c607faee-694b-47c0-bf5a-6d29467d438e"
      },
      "source": [
        "# Clean the birth dataset"
      ]
    },
    {
      "cell_type": "markdown",
      "id": "c1f8c569-d5e0-4839-8df6-adcfaaebb90a",
      "metadata": {
        "id": "c1f8c569-d5e0-4839-8df6-adcfaaebb90a"
      },
      "source": [
        "## Rename The Columns so it has a suitable name that is ready for use"
      ]
    },
    {
      "cell_type": "code",
      "execution_count": 25,
      "id": "1d803aaa-ac5f-4a35-94f5-77ced94f1475",
      "metadata": {
        "id": "1d803aaa-ac5f-4a35-94f5-77ced94f1475"
      },
      "outputs": [],
      "source": [
        "birth_data.columns = ['arrival_date', 'id', 'age', 'booking_status', 'parity', 'delivery_date', 'delivery_mode', 'partograph_used', 'delivery_outcome', 'birth_weight', 'baby_sex', 'breastfeeding_time', 'chlorhexidine_applied']"
      ]
    },
    {
      "cell_type": "markdown",
      "id": "fcece58b-67f3-4700-b3f8-50eeeb2084e8",
      "metadata": {
        "id": "fcece58b-67f3-4700-b3f8-50eeeb2084e8"
      },
      "source": [
        "## Edit the columns data, replace nothing with Something valueable"
      ]
    },
    {
      "cell_type": "code",
      "execution_count": 26,
      "id": "9062da12-004f-49be-b255-e9c4a2ed593e",
      "metadata": {
        "id": "9062da12-004f-49be-b255-e9c4a2ed593e"
      },
      "outputs": [],
      "source": [
        "birth_data.loc[(birth_data.partograph_used != \"Yes\"), \"partograph_used\"] = \"No\"\n",
        "birth_data.loc[(birth_data.chlorhexidine_applied != \"Yes\"), \"chlorhexidine_applied\"] = \"No\"\n",
        "birth_data.loc[(birth_data.breastfeeding_time != \"Within 1 hour of Delivery\"), \"breastfeeding_time\"] = \"Not within 1 hour of Delivery\"\n",
        "birth_data.loc[(birth_data.birth_weight > 6), \"birth_weight\"] = birth_data.birth_weight.mean()\n",
        "\n",
        "birth_data.fillna({\"age\": 30}, inplace=True)\n",
        "birth_data.fillna({\"delivery_outcome\": \"Still Birth\"}, inplace=True)\n",
        "birth_data.fillna({\"booking_status\": \"Unbooked\"}, inplace=True)\n",
        "birth_data.fillna({\"birth_weight\": birth_data.birth_weight.mean()}, inplace=True)"
      ]
    },
    {
      "cell_type": "markdown",
      "id": "141b8775-cc4e-4ebc-ba9c-b3228f05d775",
      "metadata": {
        "id": "141b8775-cc4e-4ebc-ba9c-b3228f05d775"
      },
      "source": [
        "## Sort the data in the dataframe by ID and overwrite the index"
      ]
    },
    {
      "cell_type": "code",
      "execution_count": 27,
      "id": "d0239c34-a257-4166-8261-226943ab8c38",
      "metadata": {
        "id": "d0239c34-a257-4166-8261-226943ab8c38"
      },
      "outputs": [],
      "source": [
        "birth_data = birth_data.sort_values(by=\"id\").reset_index(drop=True)"
      ]
    },
    {
      "cell_type": "markdown",
      "id": "ece64bf1-3261-4e3c-aa6a-d55b9bd2a121",
      "metadata": {
        "id": "ece64bf1-3261-4e3c-aa6a-d55b9bd2a121"
      },
      "source": [
        "# Clean the ANC (Artenetal Care) data set"
      ]
    },
    {
      "cell_type": "code",
      "execution_count": 28,
      "id": "b7229268-6f32-42c1-a74e-c79dd0dd1ed2",
      "metadata": {
        "colab": {
          "base_uri": "https://localhost:8080/",
          "height": 360
        },
        "id": "b7229268-6f32-42c1-a74e-c79dd0dd1ed2",
        "outputId": "affa2e76-be5d-4341-cff2-2ee562511ce5"
      },
      "outputs": [
        {
          "output_type": "execute_result",
          "data": {
            "text/plain": [
              "       ID   Age Literacy status  Parity  Gravidity    Occupation   \\\n",
              "0  037/24  25.0        Literate     0.0        1.0            NaN   \n",
              "1  043/24  25.0        Literate     0.0        1.0  Hair dressing   \n",
              "2  052/24  24.0        Literate     1.0        3.0            NaN   \n",
              "3  063/24  32.0        Literate     2.0        3.0        Teacher   \n",
              "4  105/24  36.0        Literate     3.0        4.0            NaN   \n",
              "\n",
              "  Husband's Occupation  Antenatal clinic attendance  \\\n",
              "0           Businessman                  New (2024)   \n",
              "1           Businessman                  New (2024)   \n",
              "2                Driver                  New (2024)   \n",
              "3         Civil servant                  New (2024)   \n",
              "4           Businessman                  New (2024)   \n",
              "\n",
              "   Age of pregnancy (in weeks)  Weight of patient (in Kg)  ...  \\\n",
              "0                         10.0                       64.0  ...   \n",
              "1                         21.0                       63.0  ...   \n",
              "2                         23.0                       56.0  ...   \n",
              "3                         12.0                       80.0  ...   \n",
              "4                         17.0                       95.0  ...   \n",
              "\n",
              "   Associated Problems  Associated Problems/Healthy  \\\n",
              "0               Others                          0.0   \n",
              "1                 Pain                          0.0   \n",
              "2                 Pain                          0.0   \n",
              "3        Pain Weakness                          0.0   \n",
              "4                Cough                          0.0   \n",
              "\n",
              "   Associated Problems/Cough Associated Problems/Pain  \\\n",
              "0                        0.0                      0.0   \n",
              "1                        0.0                      1.0   \n",
              "2                        0.0                      1.0   \n",
              "3                        0.0                      1.0   \n",
              "4                        1.0                      0.0   \n",
              "\n",
              "  Associated Problems/Stable Associated Problems/Weakness  \\\n",
              "0                        0.0                          0.0   \n",
              "1                        0.0                          0.0   \n",
              "2                        0.0                          0.0   \n",
              "3                        0.0                          1.0   \n",
              "4                        0.0                          0.0   \n",
              "\n",
              "  Associated Problems/Catarrh Associated Problems/Others  \\\n",
              "0                         0.0                        1.0   \n",
              "1                         0.0                        0.0   \n",
              "2                         0.0                        0.0   \n",
              "3                         0.0                        0.0   \n",
              "4                         0.0                        0.0   \n",
              "\n",
              "  Associated Problems/Fever If others, specify  \n",
              "0                       NaN       Pre-bleeding  \n",
              "1                       NaN                NaN  \n",
              "2                       NaN                NaN  \n",
              "3                       NaN                NaN  \n",
              "4                       NaN                NaN  \n",
              "\n",
              "[5 rows x 32 columns]"
            ],
            "text/html": [
              "\n",
              "  <div id=\"df-7619caed-5cc4-4946-93eb-0b160d4d6634\" class=\"colab-df-container\">\n",
              "    <div>\n",
              "<style scoped>\n",
              "    .dataframe tbody tr th:only-of-type {\n",
              "        vertical-align: middle;\n",
              "    }\n",
              "\n",
              "    .dataframe tbody tr th {\n",
              "        vertical-align: top;\n",
              "    }\n",
              "\n",
              "    .dataframe thead th {\n",
              "        text-align: right;\n",
              "    }\n",
              "</style>\n",
              "<table border=\"1\" class=\"dataframe\">\n",
              "  <thead>\n",
              "    <tr style=\"text-align: right;\">\n",
              "      <th></th>\n",
              "      <th>ID</th>\n",
              "      <th>Age</th>\n",
              "      <th>Literacy status</th>\n",
              "      <th>Parity</th>\n",
              "      <th>Gravidity</th>\n",
              "      <th>Occupation</th>\n",
              "      <th>Husband's Occupation</th>\n",
              "      <th>Antenatal clinic attendance</th>\n",
              "      <th>Age of pregnancy (in weeks)</th>\n",
              "      <th>Weight of patient (in Kg)</th>\n",
              "      <th>...</th>\n",
              "      <th>Associated Problems</th>\n",
              "      <th>Associated Problems/Healthy</th>\n",
              "      <th>Associated Problems/Cough</th>\n",
              "      <th>Associated Problems/Pain</th>\n",
              "      <th>Associated Problems/Stable</th>\n",
              "      <th>Associated Problems/Weakness</th>\n",
              "      <th>Associated Problems/Catarrh</th>\n",
              "      <th>Associated Problems/Others</th>\n",
              "      <th>Associated Problems/Fever</th>\n",
              "      <th>If others, specify</th>\n",
              "    </tr>\n",
              "  </thead>\n",
              "  <tbody>\n",
              "    <tr>\n",
              "      <th>0</th>\n",
              "      <td>037/24</td>\n",
              "      <td>25.0</td>\n",
              "      <td>Literate</td>\n",
              "      <td>0.0</td>\n",
              "      <td>1.0</td>\n",
              "      <td>NaN</td>\n",
              "      <td>Businessman</td>\n",
              "      <td>New (2024)</td>\n",
              "      <td>10.0</td>\n",
              "      <td>64.0</td>\n",
              "      <td>...</td>\n",
              "      <td>Others</td>\n",
              "      <td>0.0</td>\n",
              "      <td>0.0</td>\n",
              "      <td>0.0</td>\n",
              "      <td>0.0</td>\n",
              "      <td>0.0</td>\n",
              "      <td>0.0</td>\n",
              "      <td>1.0</td>\n",
              "      <td>NaN</td>\n",
              "      <td>Pre-bleeding</td>\n",
              "    </tr>\n",
              "    <tr>\n",
              "      <th>1</th>\n",
              "      <td>043/24</td>\n",
              "      <td>25.0</td>\n",
              "      <td>Literate</td>\n",
              "      <td>0.0</td>\n",
              "      <td>1.0</td>\n",
              "      <td>Hair dressing</td>\n",
              "      <td>Businessman</td>\n",
              "      <td>New (2024)</td>\n",
              "      <td>21.0</td>\n",
              "      <td>63.0</td>\n",
              "      <td>...</td>\n",
              "      <td>Pain</td>\n",
              "      <td>0.0</td>\n",
              "      <td>0.0</td>\n",
              "      <td>1.0</td>\n",
              "      <td>0.0</td>\n",
              "      <td>0.0</td>\n",
              "      <td>0.0</td>\n",
              "      <td>0.0</td>\n",
              "      <td>NaN</td>\n",
              "      <td>NaN</td>\n",
              "    </tr>\n",
              "    <tr>\n",
              "      <th>2</th>\n",
              "      <td>052/24</td>\n",
              "      <td>24.0</td>\n",
              "      <td>Literate</td>\n",
              "      <td>1.0</td>\n",
              "      <td>3.0</td>\n",
              "      <td>NaN</td>\n",
              "      <td>Driver</td>\n",
              "      <td>New (2024)</td>\n",
              "      <td>23.0</td>\n",
              "      <td>56.0</td>\n",
              "      <td>...</td>\n",
              "      <td>Pain</td>\n",
              "      <td>0.0</td>\n",
              "      <td>0.0</td>\n",
              "      <td>1.0</td>\n",
              "      <td>0.0</td>\n",
              "      <td>0.0</td>\n",
              "      <td>0.0</td>\n",
              "      <td>0.0</td>\n",
              "      <td>NaN</td>\n",
              "      <td>NaN</td>\n",
              "    </tr>\n",
              "    <tr>\n",
              "      <th>3</th>\n",
              "      <td>063/24</td>\n",
              "      <td>32.0</td>\n",
              "      <td>Literate</td>\n",
              "      <td>2.0</td>\n",
              "      <td>3.0</td>\n",
              "      <td>Teacher</td>\n",
              "      <td>Civil servant</td>\n",
              "      <td>New (2024)</td>\n",
              "      <td>12.0</td>\n",
              "      <td>80.0</td>\n",
              "      <td>...</td>\n",
              "      <td>Pain Weakness</td>\n",
              "      <td>0.0</td>\n",
              "      <td>0.0</td>\n",
              "      <td>1.0</td>\n",
              "      <td>0.0</td>\n",
              "      <td>1.0</td>\n",
              "      <td>0.0</td>\n",
              "      <td>0.0</td>\n",
              "      <td>NaN</td>\n",
              "      <td>NaN</td>\n",
              "    </tr>\n",
              "    <tr>\n",
              "      <th>4</th>\n",
              "      <td>105/24</td>\n",
              "      <td>36.0</td>\n",
              "      <td>Literate</td>\n",
              "      <td>3.0</td>\n",
              "      <td>4.0</td>\n",
              "      <td>NaN</td>\n",
              "      <td>Businessman</td>\n",
              "      <td>New (2024)</td>\n",
              "      <td>17.0</td>\n",
              "      <td>95.0</td>\n",
              "      <td>...</td>\n",
              "      <td>Cough</td>\n",
              "      <td>0.0</td>\n",
              "      <td>1.0</td>\n",
              "      <td>0.0</td>\n",
              "      <td>0.0</td>\n",
              "      <td>0.0</td>\n",
              "      <td>0.0</td>\n",
              "      <td>0.0</td>\n",
              "      <td>NaN</td>\n",
              "      <td>NaN</td>\n",
              "    </tr>\n",
              "  </tbody>\n",
              "</table>\n",
              "<p>5 rows × 32 columns</p>\n",
              "</div>\n",
              "    <div class=\"colab-df-buttons\">\n",
              "\n",
              "  <div class=\"colab-df-container\">\n",
              "    <button class=\"colab-df-convert\" onclick=\"convertToInteractive('df-7619caed-5cc4-4946-93eb-0b160d4d6634')\"\n",
              "            title=\"Convert this dataframe to an interactive table.\"\n",
              "            style=\"display:none;\">\n",
              "\n",
              "  <svg xmlns=\"http://www.w3.org/2000/svg\" height=\"24px\" viewBox=\"0 -960 960 960\">\n",
              "    <path d=\"M120-120v-720h720v720H120Zm60-500h600v-160H180v160Zm220 220h160v-160H400v160Zm0 220h160v-160H400v160ZM180-400h160v-160H180v160Zm440 0h160v-160H620v160ZM180-180h160v-160H180v160Zm440 0h160v-160H620v160Z\"/>\n",
              "  </svg>\n",
              "    </button>\n",
              "\n",
              "  <style>\n",
              "    .colab-df-container {\n",
              "      display:flex;\n",
              "      gap: 12px;\n",
              "    }\n",
              "\n",
              "    .colab-df-convert {\n",
              "      background-color: #E8F0FE;\n",
              "      border: none;\n",
              "      border-radius: 50%;\n",
              "      cursor: pointer;\n",
              "      display: none;\n",
              "      fill: #1967D2;\n",
              "      height: 32px;\n",
              "      padding: 0 0 0 0;\n",
              "      width: 32px;\n",
              "    }\n",
              "\n",
              "    .colab-df-convert:hover {\n",
              "      background-color: #E2EBFA;\n",
              "      box-shadow: 0px 1px 2px rgba(60, 64, 67, 0.3), 0px 1px 3px 1px rgba(60, 64, 67, 0.15);\n",
              "      fill: #174EA6;\n",
              "    }\n",
              "\n",
              "    .colab-df-buttons div {\n",
              "      margin-bottom: 4px;\n",
              "    }\n",
              "\n",
              "    [theme=dark] .colab-df-convert {\n",
              "      background-color: #3B4455;\n",
              "      fill: #D2E3FC;\n",
              "    }\n",
              "\n",
              "    [theme=dark] .colab-df-convert:hover {\n",
              "      background-color: #434B5C;\n",
              "      box-shadow: 0px 1px 3px 1px rgba(0, 0, 0, 0.15);\n",
              "      filter: drop-shadow(0px 1px 2px rgba(0, 0, 0, 0.3));\n",
              "      fill: #FFFFFF;\n",
              "    }\n",
              "  </style>\n",
              "\n",
              "    <script>\n",
              "      const buttonEl =\n",
              "        document.querySelector('#df-7619caed-5cc4-4946-93eb-0b160d4d6634 button.colab-df-convert');\n",
              "      buttonEl.style.display =\n",
              "        google.colab.kernel.accessAllowed ? 'block' : 'none';\n",
              "\n",
              "      async function convertToInteractive(key) {\n",
              "        const element = document.querySelector('#df-7619caed-5cc4-4946-93eb-0b160d4d6634');\n",
              "        const dataTable =\n",
              "          await google.colab.kernel.invokeFunction('convertToInteractive',\n",
              "                                                    [key], {});\n",
              "        if (!dataTable) return;\n",
              "\n",
              "        const docLinkHtml = 'Like what you see? Visit the ' +\n",
              "          '<a target=\"_blank\" href=https://colab.research.google.com/notebooks/data_table.ipynb>data table notebook</a>'\n",
              "          + ' to learn more about interactive tables.';\n",
              "        element.innerHTML = '';\n",
              "        dataTable['output_type'] = 'display_data';\n",
              "        await google.colab.output.renderOutput(dataTable, element);\n",
              "        const docLink = document.createElement('div');\n",
              "        docLink.innerHTML = docLinkHtml;\n",
              "        element.appendChild(docLink);\n",
              "      }\n",
              "    </script>\n",
              "  </div>\n",
              "\n",
              "\n",
              "<div id=\"df-62301252-205a-4f5c-8fb8-f9d7fe41badb\">\n",
              "  <button class=\"colab-df-quickchart\" onclick=\"quickchart('df-62301252-205a-4f5c-8fb8-f9d7fe41badb')\"\n",
              "            title=\"Suggest charts\"\n",
              "            style=\"display:none;\">\n",
              "\n",
              "<svg xmlns=\"http://www.w3.org/2000/svg\" height=\"24px\"viewBox=\"0 0 24 24\"\n",
              "     width=\"24px\">\n",
              "    <g>\n",
              "        <path d=\"M19 3H5c-1.1 0-2 .9-2 2v14c0 1.1.9 2 2 2h14c1.1 0 2-.9 2-2V5c0-1.1-.9-2-2-2zM9 17H7v-7h2v7zm4 0h-2V7h2v10zm4 0h-2v-4h2v4z\"/>\n",
              "    </g>\n",
              "</svg>\n",
              "  </button>\n",
              "\n",
              "<style>\n",
              "  .colab-df-quickchart {\n",
              "      --bg-color: #E8F0FE;\n",
              "      --fill-color: #1967D2;\n",
              "      --hover-bg-color: #E2EBFA;\n",
              "      --hover-fill-color: #174EA6;\n",
              "      --disabled-fill-color: #AAA;\n",
              "      --disabled-bg-color: #DDD;\n",
              "  }\n",
              "\n",
              "  [theme=dark] .colab-df-quickchart {\n",
              "      --bg-color: #3B4455;\n",
              "      --fill-color: #D2E3FC;\n",
              "      --hover-bg-color: #434B5C;\n",
              "      --hover-fill-color: #FFFFFF;\n",
              "      --disabled-bg-color: #3B4455;\n",
              "      --disabled-fill-color: #666;\n",
              "  }\n",
              "\n",
              "  .colab-df-quickchart {\n",
              "    background-color: var(--bg-color);\n",
              "    border: none;\n",
              "    border-radius: 50%;\n",
              "    cursor: pointer;\n",
              "    display: none;\n",
              "    fill: var(--fill-color);\n",
              "    height: 32px;\n",
              "    padding: 0;\n",
              "    width: 32px;\n",
              "  }\n",
              "\n",
              "  .colab-df-quickchart:hover {\n",
              "    background-color: var(--hover-bg-color);\n",
              "    box-shadow: 0 1px 2px rgba(60, 64, 67, 0.3), 0 1px 3px 1px rgba(60, 64, 67, 0.15);\n",
              "    fill: var(--button-hover-fill-color);\n",
              "  }\n",
              "\n",
              "  .colab-df-quickchart-complete:disabled,\n",
              "  .colab-df-quickchart-complete:disabled:hover {\n",
              "    background-color: var(--disabled-bg-color);\n",
              "    fill: var(--disabled-fill-color);\n",
              "    box-shadow: none;\n",
              "  }\n",
              "\n",
              "  .colab-df-spinner {\n",
              "    border: 2px solid var(--fill-color);\n",
              "    border-color: transparent;\n",
              "    border-bottom-color: var(--fill-color);\n",
              "    animation:\n",
              "      spin 1s steps(1) infinite;\n",
              "  }\n",
              "\n",
              "  @keyframes spin {\n",
              "    0% {\n",
              "      border-color: transparent;\n",
              "      border-bottom-color: var(--fill-color);\n",
              "      border-left-color: var(--fill-color);\n",
              "    }\n",
              "    20% {\n",
              "      border-color: transparent;\n",
              "      border-left-color: var(--fill-color);\n",
              "      border-top-color: var(--fill-color);\n",
              "    }\n",
              "    30% {\n",
              "      border-color: transparent;\n",
              "      border-left-color: var(--fill-color);\n",
              "      border-top-color: var(--fill-color);\n",
              "      border-right-color: var(--fill-color);\n",
              "    }\n",
              "    40% {\n",
              "      border-color: transparent;\n",
              "      border-right-color: var(--fill-color);\n",
              "      border-top-color: var(--fill-color);\n",
              "    }\n",
              "    60% {\n",
              "      border-color: transparent;\n",
              "      border-right-color: var(--fill-color);\n",
              "    }\n",
              "    80% {\n",
              "      border-color: transparent;\n",
              "      border-right-color: var(--fill-color);\n",
              "      border-bottom-color: var(--fill-color);\n",
              "    }\n",
              "    90% {\n",
              "      border-color: transparent;\n",
              "      border-bottom-color: var(--fill-color);\n",
              "    }\n",
              "  }\n",
              "</style>\n",
              "\n",
              "  <script>\n",
              "    async function quickchart(key) {\n",
              "      const quickchartButtonEl =\n",
              "        document.querySelector('#' + key + ' button');\n",
              "      quickchartButtonEl.disabled = true;  // To prevent multiple clicks.\n",
              "      quickchartButtonEl.classList.add('colab-df-spinner');\n",
              "      try {\n",
              "        const charts = await google.colab.kernel.invokeFunction(\n",
              "            'suggestCharts', [key], {});\n",
              "      } catch (error) {\n",
              "        console.error('Error during call to suggestCharts:', error);\n",
              "      }\n",
              "      quickchartButtonEl.classList.remove('colab-df-spinner');\n",
              "      quickchartButtonEl.classList.add('colab-df-quickchart-complete');\n",
              "    }\n",
              "    (() => {\n",
              "      let quickchartButtonEl =\n",
              "        document.querySelector('#df-62301252-205a-4f5c-8fb8-f9d7fe41badb button');\n",
              "      quickchartButtonEl.style.display =\n",
              "        google.colab.kernel.accessAllowed ? 'block' : 'none';\n",
              "    })();\n",
              "  </script>\n",
              "</div>\n",
              "\n",
              "    </div>\n",
              "  </div>\n"
            ],
            "application/vnd.google.colaboratory.intrinsic+json": {
              "type": "dataframe",
              "variable_name": "anc_data"
            }
          },
          "metadata": {},
          "execution_count": 28
        }
      ],
      "source": [
        "anc_data.head()"
      ]
    },
    {
      "cell_type": "code",
      "execution_count": 29,
      "id": "dfaf984e-9d5e-495f-ba9f-f8b12d8c5b10",
      "metadata": {
        "id": "dfaf984e-9d5e-495f-ba9f-f8b12d8c5b10"
      },
      "outputs": [],
      "source": [
        "anc_data.columns = [\n",
        "    'id', 'age', 'literacy_status', 'parity', 'gravidity', 'occupation',\n",
        "    'husband_occupation', 'antenatal_attendance', 'pregnancy_age_weeks',\n",
        "    'weight_kg', 'systolic_bp', 'diastolic_bp', 'antenatal_visits_count',\n",
        "    'delivery_status', 'delivery_location', 'hiv_status', 'vdrl_syphilis',\n",
        "    'blood_group', 'elevated_glucose_during_pregnancy', 'hepatitis_b',\n",
        "    'last_ipt_dose', 'tetanus_vaccine', 'associated_problems',\n",
        "    'associated_problems_healthy', 'associated_problems_cough',\n",
        "    'associated_problems_pain', 'associated_problems_stable',\n",
        "    'associated_problems_weakness', 'associated_problems_catarrh',\n",
        "    'associated_problems_others', 'associated_problems_fever',\n",
        "    'others_specify'\n",
        "]"
      ]
    },
    {
      "cell_type": "code",
      "execution_count": 30,
      "id": "8de8ba00-faa3-47b9-84e2-d09bc2e8cf14",
      "metadata": {
        "id": "8de8ba00-faa3-47b9-84e2-d09bc2e8cf14"
      },
      "outputs": [],
      "source": [
        "# Merge the datasets on 'ID' column, keeping only the matching rows\n",
        "anc_filtered = anc_data.merge(birth_data[['id']], on='id', how='inner')"
      ]
    },
    {
      "cell_type": "code",
      "execution_count": 31,
      "id": "37794297-2b2e-40e4-85ea-39ee8ff08596",
      "metadata": {
        "colab": {
          "base_uri": "https://localhost:8080/"
        },
        "id": "37794297-2b2e-40e4-85ea-39ee8ff08596",
        "outputId": "cdb48989-92fd-429e-d8b2-a301b8358161"
      },
      "outputs": [
        {
          "output_type": "execute_result",
          "data": {
            "text/plain": [
              "(123, 32)"
            ]
          },
          "metadata": {},
          "execution_count": 31
        }
      ],
      "source": [
        "anc_filtered.shape"
      ]
    },
    {
      "cell_type": "code",
      "execution_count": 32,
      "id": "f469b8bb-39d9-4bf1-9c66-3023c889a5d4",
      "metadata": {
        "colab": {
          "base_uri": "https://localhost:8080/"
        },
        "id": "f469b8bb-39d9-4bf1-9c66-3023c889a5d4",
        "outputId": "64959884-e9b1-4f68-d937-246928db3cf8"
      },
      "outputs": [
        {
          "output_type": "execute_result",
          "data": {
            "text/plain": [
              "(161, 13)"
            ]
          },
          "metadata": {},
          "execution_count": 32
        }
      ],
      "source": [
        "birth_data.shape"
      ]
    },
    {
      "cell_type": "markdown",
      "id": "6dbefeed-6d96-4897-9120-73e3302360c9",
      "metadata": {
        "id": "6dbefeed-6d96-4897-9120-73e3302360c9"
      },
      "source": [
        "# Time to answer tyhe questions given"
      ]
    },
    {
      "cell_type": "markdown",
      "id": "3075ce89-5fd6-4e59-af53-e4b46569c103",
      "metadata": {
        "id": "3075ce89-5fd6-4e59-af53-e4b46569c103"
      },
      "source": [
        "## What is the total number of deliveries recorded in the time period?"
      ]
    },
    {
      "cell_type": "code",
      "execution_count": 33,
      "id": "c6405367-8658-4508-9dd5-a36c0e051cc4",
      "metadata": {
        "colab": {
          "base_uri": "https://localhost:8080/"
        },
        "id": "c6405367-8658-4508-9dd5-a36c0e051cc4",
        "outputId": "27b9cd08-20ab-4e06-d30c-ec9779bc1c6c"
      },
      "outputs": [
        {
          "output_type": "execute_result",
          "data": {
            "text/plain": [
              "(161, 13)"
            ]
          },
          "metadata": {},
          "execution_count": 33
        }
      ],
      "source": [
        "birth_data.shape"
      ]
    },
    {
      "cell_type": "code",
      "execution_count": 34,
      "id": "07e45c75-1ddf-4929-9356-1a8ad18921ae",
      "metadata": {
        "colab": {
          "base_uri": "https://localhost:8080/"
        },
        "id": "07e45c75-1ddf-4929-9356-1a8ad18921ae",
        "outputId": "6683bfb7-8cde-4c3e-a956-9fc6e0e718f3"
      },
      "outputs": [
        {
          "output_type": "execute_result",
          "data": {
            "text/plain": [
              "(123, 32)"
            ]
          },
          "metadata": {},
          "execution_count": 34
        }
      ],
      "source": [
        "anc_filtered.shape"
      ]
    },
    {
      "cell_type": "code",
      "execution_count": 35,
      "id": "39cec973-e99b-4db5-8cc0-2ef2f6b38c75",
      "metadata": {
        "colab": {
          "base_uri": "https://localhost:8080/"
        },
        "id": "39cec973-e99b-4db5-8cc0-2ef2f6b38c75",
        "outputId": "0467f274-37d0-4a43-e4ad-ae48b94debaf"
      },
      "outputs": [
        {
          "output_type": "execute_result",
          "data": {
            "text/plain": [
              "(498, 32)"
            ]
          },
          "metadata": {},
          "execution_count": 35
        }
      ],
      "source": [
        "anc_data.shape"
      ]
    },
    {
      "cell_type": "markdown",
      "id": "c5ccddec-78b1-4b4a-936c-72102ee55b21",
      "metadata": {
        "id": "c5ccddec-78b1-4b4a-936c-72102ee55b21"
      },
      "source": [
        "## Is there any difference in birth weight between booked and unbooked patients delivery?"
      ]
    },
    {
      "cell_type": "code",
      "execution_count": 36,
      "id": "7beb12e8-e174-4b10-807e-afdb16d35fe6",
      "metadata": {
        "id": "7beb12e8-e174-4b10-807e-afdb16d35fe6"
      },
      "outputs": [],
      "source": [
        "ttest_data = birth_data.loc[:, [\"booking_status\", \"birth_weight\"]]"
      ]
    },
    {
      "cell_type": "code",
      "execution_count": 37,
      "id": "c9421e62-6b51-461c-bc50-9f5accb5dd96",
      "metadata": {
        "colab": {
          "base_uri": "https://localhost:8080/",
          "height": 206
        },
        "id": "c9421e62-6b51-461c-bc50-9f5accb5dd96",
        "outputId": "ef531d0b-15ab-4d44-c622-737ea1a1c1bd"
      },
      "outputs": [
        {
          "output_type": "execute_result",
          "data": {
            "text/plain": [
              "  booking_status  birth_weight\n",
              "0         Booked           3.6\n",
              "1         Booked           3.0\n",
              "2       Unbooked           3.0\n",
              "3         Booked           4.0\n",
              "4         Booked           3.3"
            ],
            "text/html": [
              "\n",
              "  <div id=\"df-2979aa24-b73c-497b-b1c8-289cf7a5be43\" class=\"colab-df-container\">\n",
              "    <div>\n",
              "<style scoped>\n",
              "    .dataframe tbody tr th:only-of-type {\n",
              "        vertical-align: middle;\n",
              "    }\n",
              "\n",
              "    .dataframe tbody tr th {\n",
              "        vertical-align: top;\n",
              "    }\n",
              "\n",
              "    .dataframe thead th {\n",
              "        text-align: right;\n",
              "    }\n",
              "</style>\n",
              "<table border=\"1\" class=\"dataframe\">\n",
              "  <thead>\n",
              "    <tr style=\"text-align: right;\">\n",
              "      <th></th>\n",
              "      <th>booking_status</th>\n",
              "      <th>birth_weight</th>\n",
              "    </tr>\n",
              "  </thead>\n",
              "  <tbody>\n",
              "    <tr>\n",
              "      <th>0</th>\n",
              "      <td>Booked</td>\n",
              "      <td>3.6</td>\n",
              "    </tr>\n",
              "    <tr>\n",
              "      <th>1</th>\n",
              "      <td>Booked</td>\n",
              "      <td>3.0</td>\n",
              "    </tr>\n",
              "    <tr>\n",
              "      <th>2</th>\n",
              "      <td>Unbooked</td>\n",
              "      <td>3.0</td>\n",
              "    </tr>\n",
              "    <tr>\n",
              "      <th>3</th>\n",
              "      <td>Booked</td>\n",
              "      <td>4.0</td>\n",
              "    </tr>\n",
              "    <tr>\n",
              "      <th>4</th>\n",
              "      <td>Booked</td>\n",
              "      <td>3.3</td>\n",
              "    </tr>\n",
              "  </tbody>\n",
              "</table>\n",
              "</div>\n",
              "    <div class=\"colab-df-buttons\">\n",
              "\n",
              "  <div class=\"colab-df-container\">\n",
              "    <button class=\"colab-df-convert\" onclick=\"convertToInteractive('df-2979aa24-b73c-497b-b1c8-289cf7a5be43')\"\n",
              "            title=\"Convert this dataframe to an interactive table.\"\n",
              "            style=\"display:none;\">\n",
              "\n",
              "  <svg xmlns=\"http://www.w3.org/2000/svg\" height=\"24px\" viewBox=\"0 -960 960 960\">\n",
              "    <path d=\"M120-120v-720h720v720H120Zm60-500h600v-160H180v160Zm220 220h160v-160H400v160Zm0 220h160v-160H400v160ZM180-400h160v-160H180v160Zm440 0h160v-160H620v160ZM180-180h160v-160H180v160Zm440 0h160v-160H620v160Z\"/>\n",
              "  </svg>\n",
              "    </button>\n",
              "\n",
              "  <style>\n",
              "    .colab-df-container {\n",
              "      display:flex;\n",
              "      gap: 12px;\n",
              "    }\n",
              "\n",
              "    .colab-df-convert {\n",
              "      background-color: #E8F0FE;\n",
              "      border: none;\n",
              "      border-radius: 50%;\n",
              "      cursor: pointer;\n",
              "      display: none;\n",
              "      fill: #1967D2;\n",
              "      height: 32px;\n",
              "      padding: 0 0 0 0;\n",
              "      width: 32px;\n",
              "    }\n",
              "\n",
              "    .colab-df-convert:hover {\n",
              "      background-color: #E2EBFA;\n",
              "      box-shadow: 0px 1px 2px rgba(60, 64, 67, 0.3), 0px 1px 3px 1px rgba(60, 64, 67, 0.15);\n",
              "      fill: #174EA6;\n",
              "    }\n",
              "\n",
              "    .colab-df-buttons div {\n",
              "      margin-bottom: 4px;\n",
              "    }\n",
              "\n",
              "    [theme=dark] .colab-df-convert {\n",
              "      background-color: #3B4455;\n",
              "      fill: #D2E3FC;\n",
              "    }\n",
              "\n",
              "    [theme=dark] .colab-df-convert:hover {\n",
              "      background-color: #434B5C;\n",
              "      box-shadow: 0px 1px 3px 1px rgba(0, 0, 0, 0.15);\n",
              "      filter: drop-shadow(0px 1px 2px rgba(0, 0, 0, 0.3));\n",
              "      fill: #FFFFFF;\n",
              "    }\n",
              "  </style>\n",
              "\n",
              "    <script>\n",
              "      const buttonEl =\n",
              "        document.querySelector('#df-2979aa24-b73c-497b-b1c8-289cf7a5be43 button.colab-df-convert');\n",
              "      buttonEl.style.display =\n",
              "        google.colab.kernel.accessAllowed ? 'block' : 'none';\n",
              "\n",
              "      async function convertToInteractive(key) {\n",
              "        const element = document.querySelector('#df-2979aa24-b73c-497b-b1c8-289cf7a5be43');\n",
              "        const dataTable =\n",
              "          await google.colab.kernel.invokeFunction('convertToInteractive',\n",
              "                                                    [key], {});\n",
              "        if (!dataTable) return;\n",
              "\n",
              "        const docLinkHtml = 'Like what you see? Visit the ' +\n",
              "          '<a target=\"_blank\" href=https://colab.research.google.com/notebooks/data_table.ipynb>data table notebook</a>'\n",
              "          + ' to learn more about interactive tables.';\n",
              "        element.innerHTML = '';\n",
              "        dataTable['output_type'] = 'display_data';\n",
              "        await google.colab.output.renderOutput(dataTable, element);\n",
              "        const docLink = document.createElement('div');\n",
              "        docLink.innerHTML = docLinkHtml;\n",
              "        element.appendChild(docLink);\n",
              "      }\n",
              "    </script>\n",
              "  </div>\n",
              "\n",
              "\n",
              "<div id=\"df-9395d277-260f-473d-a2d0-3a8ce8c518c4\">\n",
              "  <button class=\"colab-df-quickchart\" onclick=\"quickchart('df-9395d277-260f-473d-a2d0-3a8ce8c518c4')\"\n",
              "            title=\"Suggest charts\"\n",
              "            style=\"display:none;\">\n",
              "\n",
              "<svg xmlns=\"http://www.w3.org/2000/svg\" height=\"24px\"viewBox=\"0 0 24 24\"\n",
              "     width=\"24px\">\n",
              "    <g>\n",
              "        <path d=\"M19 3H5c-1.1 0-2 .9-2 2v14c0 1.1.9 2 2 2h14c1.1 0 2-.9 2-2V5c0-1.1-.9-2-2-2zM9 17H7v-7h2v7zm4 0h-2V7h2v10zm4 0h-2v-4h2v4z\"/>\n",
              "    </g>\n",
              "</svg>\n",
              "  </button>\n",
              "\n",
              "<style>\n",
              "  .colab-df-quickchart {\n",
              "      --bg-color: #E8F0FE;\n",
              "      --fill-color: #1967D2;\n",
              "      --hover-bg-color: #E2EBFA;\n",
              "      --hover-fill-color: #174EA6;\n",
              "      --disabled-fill-color: #AAA;\n",
              "      --disabled-bg-color: #DDD;\n",
              "  }\n",
              "\n",
              "  [theme=dark] .colab-df-quickchart {\n",
              "      --bg-color: #3B4455;\n",
              "      --fill-color: #D2E3FC;\n",
              "      --hover-bg-color: #434B5C;\n",
              "      --hover-fill-color: #FFFFFF;\n",
              "      --disabled-bg-color: #3B4455;\n",
              "      --disabled-fill-color: #666;\n",
              "  }\n",
              "\n",
              "  .colab-df-quickchart {\n",
              "    background-color: var(--bg-color);\n",
              "    border: none;\n",
              "    border-radius: 50%;\n",
              "    cursor: pointer;\n",
              "    display: none;\n",
              "    fill: var(--fill-color);\n",
              "    height: 32px;\n",
              "    padding: 0;\n",
              "    width: 32px;\n",
              "  }\n",
              "\n",
              "  .colab-df-quickchart:hover {\n",
              "    background-color: var(--hover-bg-color);\n",
              "    box-shadow: 0 1px 2px rgba(60, 64, 67, 0.3), 0 1px 3px 1px rgba(60, 64, 67, 0.15);\n",
              "    fill: var(--button-hover-fill-color);\n",
              "  }\n",
              "\n",
              "  .colab-df-quickchart-complete:disabled,\n",
              "  .colab-df-quickchart-complete:disabled:hover {\n",
              "    background-color: var(--disabled-bg-color);\n",
              "    fill: var(--disabled-fill-color);\n",
              "    box-shadow: none;\n",
              "  }\n",
              "\n",
              "  .colab-df-spinner {\n",
              "    border: 2px solid var(--fill-color);\n",
              "    border-color: transparent;\n",
              "    border-bottom-color: var(--fill-color);\n",
              "    animation:\n",
              "      spin 1s steps(1) infinite;\n",
              "  }\n",
              "\n",
              "  @keyframes spin {\n",
              "    0% {\n",
              "      border-color: transparent;\n",
              "      border-bottom-color: var(--fill-color);\n",
              "      border-left-color: var(--fill-color);\n",
              "    }\n",
              "    20% {\n",
              "      border-color: transparent;\n",
              "      border-left-color: var(--fill-color);\n",
              "      border-top-color: var(--fill-color);\n",
              "    }\n",
              "    30% {\n",
              "      border-color: transparent;\n",
              "      border-left-color: var(--fill-color);\n",
              "      border-top-color: var(--fill-color);\n",
              "      border-right-color: var(--fill-color);\n",
              "    }\n",
              "    40% {\n",
              "      border-color: transparent;\n",
              "      border-right-color: var(--fill-color);\n",
              "      border-top-color: var(--fill-color);\n",
              "    }\n",
              "    60% {\n",
              "      border-color: transparent;\n",
              "      border-right-color: var(--fill-color);\n",
              "    }\n",
              "    80% {\n",
              "      border-color: transparent;\n",
              "      border-right-color: var(--fill-color);\n",
              "      border-bottom-color: var(--fill-color);\n",
              "    }\n",
              "    90% {\n",
              "      border-color: transparent;\n",
              "      border-bottom-color: var(--fill-color);\n",
              "    }\n",
              "  }\n",
              "</style>\n",
              "\n",
              "  <script>\n",
              "    async function quickchart(key) {\n",
              "      const quickchartButtonEl =\n",
              "        document.querySelector('#' + key + ' button');\n",
              "      quickchartButtonEl.disabled = true;  // To prevent multiple clicks.\n",
              "      quickchartButtonEl.classList.add('colab-df-spinner');\n",
              "      try {\n",
              "        const charts = await google.colab.kernel.invokeFunction(\n",
              "            'suggestCharts', [key], {});\n",
              "      } catch (error) {\n",
              "        console.error('Error during call to suggestCharts:', error);\n",
              "      }\n",
              "      quickchartButtonEl.classList.remove('colab-df-spinner');\n",
              "      quickchartButtonEl.classList.add('colab-df-quickchart-complete');\n",
              "    }\n",
              "    (() => {\n",
              "      let quickchartButtonEl =\n",
              "        document.querySelector('#df-9395d277-260f-473d-a2d0-3a8ce8c518c4 button');\n",
              "      quickchartButtonEl.style.display =\n",
              "        google.colab.kernel.accessAllowed ? 'block' : 'none';\n",
              "    })();\n",
              "  </script>\n",
              "</div>\n",
              "\n",
              "    </div>\n",
              "  </div>\n"
            ],
            "application/vnd.google.colaboratory.intrinsic+json": {
              "type": "dataframe",
              "variable_name": "ttest_data",
              "summary": "{\n  \"name\": \"ttest_data\",\n  \"rows\": 161,\n  \"fields\": [\n    {\n      \"column\": \"booking_status\",\n      \"properties\": {\n        \"dtype\": \"category\",\n        \"num_unique_values\": 2,\n        \"samples\": [\n          \"Unbooked\",\n          \"Booked\"\n        ],\n        \"semantic_type\": \"\",\n        \"description\": \"\"\n      }\n    },\n    {\n      \"column\": \"birth_weight\",\n      \"properties\": {\n        \"dtype\": \"number\",\n        \"std\": 0.5971312986879949,\n        \"min\": 1.8,\n        \"max\": 6.8373103448275865,\n        \"num_unique_values\": 26,\n        \"samples\": [\n          3.2,\n          3.8\n        ],\n        \"semantic_type\": \"\",\n        \"description\": \"\"\n      }\n    }\n  ]\n}"
            }
          },
          "metadata": {},
          "execution_count": 37
        }
      ],
      "source": [
        "ttest_data.head()"
      ]
    },
    {
      "cell_type": "code",
      "execution_count": 38,
      "id": "3e30461e-a36b-4983-a727-e8347ba82022",
      "metadata": {
        "id": "3e30461e-a36b-4983-a727-e8347ba82022"
      },
      "outputs": [],
      "source": [
        "booked_birth_weight = ttest_data.loc[(ttest_data.booking_status == \"Booked\")].birth_weight\n",
        "\n",
        "unbooked_birth_weight =  ttest_data.loc[(ttest_data.booking_status == \"Unbooked\")].birth_weight"
      ]
    },
    {
      "cell_type": "code",
      "execution_count": 39,
      "id": "7336a072-9dd0-427c-b87d-2919de225803",
      "metadata": {
        "colab": {
          "base_uri": "https://localhost:8080/",
          "height": 430
        },
        "id": "7336a072-9dd0-427c-b87d-2919de225803",
        "outputId": "bb31a469-bc78-4638-e03f-2ee5bf22eb33"
      },
      "outputs": [
        {
          "output_type": "display_data",
          "data": {
            "text/plain": [
              "<Figure size 640x480 with 1 Axes>"
            ],
            "image/png": "[encoded data removed]"
          },
          "metadata": {}
        }
      ],
      "source": [
        "import matplotlib.pyplot as plt\n",
        "import seaborn as sns\n",
        "\n",
        "# Create a box plot for 'Weight' based on 'Booking Status'\n",
        "plt.hist(ttest_data.birth_weight)\n",
        "plt.show()"
      ]
    },
    {
      "cell_type": "code",
      "execution_count": 40,
      "id": "71c2c92b-a5ce-45ee-a5fb-b02d4c48d528",
      "metadata": {
        "id": "71c2c92b-a5ce-45ee-a5fb-b02d4c48d528"
      },
      "outputs": [],
      "source": [
        "from scipy import stats"
      ]
    },
    {
      "cell_type": "code",
      "execution_count": 41,
      "id": "143169cb-c489-47f1-9fd4-5a1c675c40ba",
      "metadata": {
        "id": "143169cb-c489-47f1-9fd4-5a1c675c40ba"
      },
      "outputs": [],
      "source": [
        "t_stat, p_value = stats.ttest_ind(booked_birth_weight, unbooked_birth_weight)"
      ]
    },
    {
      "cell_type": "code",
      "execution_count": 42,
      "id": "2c8959db-0a85-4f62-badf-d1b9840cb4d6",
      "metadata": {
        "scrolled": true,
        "colab": {
          "base_uri": "https://localhost:8080/"
        },
        "id": "2c8959db-0a85-4f62-badf-d1b9840cb4d6",
        "outputId": "6a292180-b30a-4fc0-9cf0-e180a95839ff"
      },
      "outputs": [
        {
          "output_type": "stream",
          "name": "stdout",
          "text": [
            "T-statistic: -2.9569441422322744\n",
            "P-value: 0.003580918021100134\n"
          ]
        }
      ],
      "source": [
        "print(f\"T-statistic: {t_stat}\")\n",
        "print(f\"P-value: {p_value}\")"
      ]
    },
    {
      "cell_type": "code",
      "execution_count": 43,
      "id": "e468f10c-57ea-49c7-85f1-61e788e36c1e",
      "metadata": {
        "colab": {
          "base_uri": "https://localhost:8080/"
        },
        "id": "e468f10c-57ea-49c7-85f1-61e788e36c1e",
        "outputId": "9cf3fdb4-61b7-45a6-c9d2-1fa5a49f03be"
      },
      "outputs": [
        {
          "output_type": "execute_result",
          "data": {
            "text/plain": [
              "array([3.6       , 3.        , 4.        , 3.3       , 3.39368704,\n",
              "       3.5       , 3.7       , 2.3       , 2.71      , 3.4       ,\n",
              "       2.8       , 3.1       , 3.8       , 2.5       , 3.2       ,\n",
              "       2.7       , 3.9       , 4.2       , 1.8       , 2.9       ,\n",
              "       2.        , 6.83731034])"
            ]
          },
          "metadata": {},
          "execution_count": 43
        }
      ],
      "source": [
        "booked_birth_weight.unique()"
      ]
    },
    {
      "cell_type": "code",
      "execution_count": 44,
      "id": "6cfe0f9d-4a4f-4e27-b48b-5788012fae62",
      "metadata": {
        "id": "6cfe0f9d-4a4f-4e27-b48b-5788012fae62"
      },
      "outputs": [],
      "source": [
        "def get_trimester(age_weeks):\n",
        "    if 0 <= age_weeks <= 12:\n",
        "        return 'First Trimester'\n",
        "    elif 13 <= age_weeks <= 26:\n",
        "        return 'Second Trimester'\n",
        "    elif age_weeks >= 27:\n",
        "        return 'Third Trimester'\n",
        "\n",
        "\n",
        "booking_trimester = anc_filtered.pregnancy_age_weeks.apply(get_trimester)"
      ]
    },
    {
      "cell_type": "code",
      "execution_count": 45,
      "id": "27fe1d52-eb38-4a40-8566-de9dc616cc8a",
      "metadata": {
        "colab": {
          "base_uri": "https://localhost:8080/",
          "height": 241
        },
        "id": "27fe1d52-eb38-4a40-8566-de9dc616cc8a",
        "outputId": "d1848977-729e-484b-a23a-a4e963e128b5"
      },
      "outputs": [
        {
          "output_type": "execute_result",
          "data": {
            "text/plain": [
              "0     First Trimester\n",
              "1     First Trimester\n",
              "2     First Trimester\n",
              "3    Second Trimester\n",
              "4     First Trimester\n",
              "Name: pregnancy_age_weeks, dtype: object"
            ],
            "text/html": [
              "<div>\n",
              "<style scoped>\n",
              "    .dataframe tbody tr th:only-of-type {\n",
              "        vertical-align: middle;\n",
              "    }\n",
              "\n",
              "    .dataframe tbody tr th {\n",
              "        vertical-align: top;\n",
              "    }\n",
              "\n",
              "    .dataframe thead th {\n",
              "        text-align: right;\n",
              "    }\n",
              "</style>\n",
              "<table border=\"1\" class=\"dataframe\">\n",
              "  <thead>\n",
              "    <tr style=\"text-align: right;\">\n",
              "      <th></th>\n",
              "      <th>pregnancy_age_weeks</th>\n",
              "    </tr>\n",
              "  </thead>\n",
              "  <tbody>\n",
              "    <tr>\n",
              "      <th>0</th>\n",
              "      <td>First Trimester</td>\n",
              "    </tr>\n",
              "    <tr>\n",
              "      <th>1</th>\n",
              "      <td>First Trimester</td>\n",
              "    </tr>\n",
              "    <tr>\n",
              "      <th>2</th>\n",
              "      <td>First Trimester</td>\n",
              "    </tr>\n",
              "    <tr>\n",
              "      <th>3</th>\n",
              "      <td>Second Trimester</td>\n",
              "    </tr>\n",
              "    <tr>\n",
              "      <th>4</th>\n",
              "      <td>First Trimester</td>\n",
              "    </tr>\n",
              "  </tbody>\n",
              "</table>\n",
              "</div><br><label><b>dtype:</b> object</label>"
            ]
          },
          "metadata": {},
          "execution_count": 45
        }
      ],
      "source": [
        "booking_trimester.head()"
      ]
    },
    {
      "cell_type": "code",
      "execution_count": 46,
      "id": "10b75227-e76a-48aa-9bc4-889f404afcb5",
      "metadata": {
        "id": "10b75227-e76a-48aa-9bc4-889f404afcb5"
      },
      "outputs": [],
      "source": [
        "maternal_booking_weight = anc_filtered.weight_kg"
      ]
    },
    {
      "cell_type": "code",
      "execution_count": 47,
      "id": "4b3599a1-d079-4e5d-b652-63b03cf79dc6",
      "metadata": {
        "colab": {
          "base_uri": "https://localhost:8080/",
          "height": 241
        },
        "id": "4b3599a1-d079-4e5d-b652-63b03cf79dc6",
        "outputId": "c57dd278-d775-4bfb-f2ae-824704d5b5df"
      },
      "outputs": [
        {
          "output_type": "execute_result",
          "data": {
            "text/plain": [
              "0     NaN\n",
              "1    60.0\n",
              "2    58.0\n",
              "3    60.0\n",
              "4    63.0\n",
              "Name: weight_kg, dtype: float64"
            ],
            "text/html": [
              "<div>\n",
              "<style scoped>\n",
              "    .dataframe tbody tr th:only-of-type {\n",
              "        vertical-align: middle;\n",
              "    }\n",
              "\n",
              "    .dataframe tbody tr th {\n",
              "        vertical-align: top;\n",
              "    }\n",
              "\n",
              "    .dataframe thead th {\n",
              "        text-align: right;\n",
              "    }\n",
              "</style>\n",
              "<table border=\"1\" class=\"dataframe\">\n",
              "  <thead>\n",
              "    <tr style=\"text-align: right;\">\n",
              "      <th></th>\n",
              "      <th>weight_kg</th>\n",
              "    </tr>\n",
              "  </thead>\n",
              "  <tbody>\n",
              "    <tr>\n",
              "      <th>0</th>\n",
              "      <td>NaN</td>\n",
              "    </tr>\n",
              "    <tr>\n",
              "      <th>1</th>\n",
              "      <td>60.0</td>\n",
              "    </tr>\n",
              "    <tr>\n",
              "      <th>2</th>\n",
              "      <td>58.0</td>\n",
              "    </tr>\n",
              "    <tr>\n",
              "      <th>3</th>\n",
              "      <td>60.0</td>\n",
              "    </tr>\n",
              "    <tr>\n",
              "      <th>4</th>\n",
              "      <td>63.0</td>\n",
              "    </tr>\n",
              "  </tbody>\n",
              "</table>\n",
              "</div><br><label><b>dtype:</b> float64</label>"
            ]
          },
          "metadata": {},
          "execution_count": 47
        }
      ],
      "source": [
        "maternal_booking_weight.head()"
      ]
    },
    {
      "cell_type": "code",
      "execution_count": 52,
      "id": "a3d90fcf-84ec-40d4-8ddd-7aa6b200252d",
      "metadata": {
        "id": "a3d90fcf-84ec-40d4-8ddd-7aa6b200252d"
      },
      "outputs": [],
      "source": [
        "birth_weight = birth_data.merge(anc_data[['id']], on='id', how='inner').birth_weight"
      ]
    },
    {
      "cell_type": "code",
      "execution_count": 49,
      "id": "639a416d-d411-4768-9479-82857252a6e2",
      "metadata": {
        "colab": {
          "base_uri": "https://localhost:8080/",
          "height": 458
        },
        "id": "639a416d-d411-4768-9479-82857252a6e2",
        "outputId": "3bdc42b0-fcf9-4346-af62-86741b95d15f"
      },
      "outputs": [
        {
          "output_type": "execute_result",
          "data": {
            "text/plain": [
              "0      74.042017\n",
              "1      60.000000\n",
              "2      58.000000\n",
              "3      60.000000\n",
              "4      63.000000\n",
              "         ...    \n",
              "118    63.000000\n",
              "119    74.000000\n",
              "120    65.000000\n",
              "121    60.000000\n",
              "122    86.000000\n",
              "Name: weight_kg, Length: 123, dtype: float64"
            ],
            "text/html": [
              "<div>\n",
              "<style scoped>\n",
              "    .dataframe tbody tr th:only-of-type {\n",
              "        vertical-align: middle;\n",
              "    }\n",
              "\n",
              "    .dataframe tbody tr th {\n",
              "        vertical-align: top;\n",
              "    }\n",
              "\n",
              "    .dataframe thead th {\n",
              "        text-align: right;\n",
              "    }\n",
              "</style>\n",
              "<table border=\"1\" class=\"dataframe\">\n",
              "  <thead>\n",
              "    <tr style=\"text-align: right;\">\n",
              "      <th></th>\n",
              "      <th>weight_kg</th>\n",
              "    </tr>\n",
              "  </thead>\n",
              "  <tbody>\n",
              "    <tr>\n",
              "      <th>0</th>\n",
              "      <td>74.042017</td>\n",
              "    </tr>\n",
              "    <tr>\n",
              "      <th>1</th>\n",
              "      <td>60.000000</td>\n",
              "    </tr>\n",
              "    <tr>\n",
              "      <th>2</th>\n",
              "      <td>58.000000</td>\n",
              "    </tr>\n",
              "    <tr>\n",
              "      <th>3</th>\n",
              "      <td>60.000000</td>\n",
              "    </tr>\n",
              "    <tr>\n",
              "      <th>4</th>\n",
              "      <td>63.000000</td>\n",
              "    </tr>\n",
              "    <tr>\n",
              "      <th>...</th>\n",
              "      <td>...</td>\n",
              "    </tr>\n",
              "    <tr>\n",
              "      <th>118</th>\n",
              "      <td>63.000000</td>\n",
              "    </tr>\n",
              "    <tr>\n",
              "      <th>119</th>\n",
              "      <td>74.000000</td>\n",
              "    </tr>\n",
              "    <tr>\n",
              "      <th>120</th>\n",
              "      <td>65.000000</td>\n",
              "    </tr>\n",
              "    <tr>\n",
              "      <th>121</th>\n",
              "      <td>60.000000</td>\n",
              "    </tr>\n",
              "    <tr>\n",
              "      <th>122</th>\n",
              "      <td>86.000000</td>\n",
              "    </tr>\n",
              "  </tbody>\n",
              "</table>\n",
              "<p>123 rows × 1 columns</p>\n",
              "</div><br><label><b>dtype:</b> float64</label>"
            ]
          },
          "metadata": {},
          "execution_count": 49
        }
      ],
      "source": [
        "maternal_booking_weight.fillna(maternal_booking_weight.mean())"
      ]
    },
    {
      "cell_type": "code",
      "execution_count": 50,
      "id": "519d5dff-cb5e-43e2-9244-74436069603d",
      "metadata": {
        "id": "519d5dff-cb5e-43e2-9244-74436069603d"
      },
      "outputs": [],
      "source": [
        "booking_trimester.fillna(\"Second Trimester\")\n",
        "\n",
        "booking_trimester = booking_trimester.apply(lambda x: \"Second Trimester\" if x is None else x)"
      ]
    },
    {
      "cell_type": "code",
      "execution_count": 53,
      "id": "637b0da9-f731-4fb3-9fd1-dbc8ceea9581",
      "metadata": {
        "colab": {
          "base_uri": "https://localhost:8080/"
        },
        "id": "637b0da9-f731-4fb3-9fd1-dbc8ceea9581",
        "outputId": "6d363bd5-9acd-47ba-bf0f-dc6a42092c83"
      },
      "outputs": [
        {
          "output_type": "execute_result",
          "data": {
            "text/plain": [
              "array([3.6       , 3.        , 4.        , 3.3       , 3.5       ,\n",
              "       3.39368704, 3.4       , 3.7       , 3.2       , 2.5       ,\n",
              "       6.83731034, 2.3       , 2.71      , 4.3       , 2.8       ,\n",
              "       3.1       , 3.8       , 4.1       , 2.7       , 3.9       ,\n",
              "       4.5       , 1.8       , 2.9       , 2.        , 4.9       ])"
            ]
          },
          "metadata": {},
          "execution_count": 53
        }
      ],
      "source": [
        "birth_weight.unique()"
      ]
    },
    {
      "cell_type": "code",
      "execution_count": 54,
      "id": "44dc2ec9-e058-4b05-8bf5-ff687f09f151",
      "metadata": {
        "colab": {
          "base_uri": "https://localhost:8080/"
        },
        "id": "44dc2ec9-e058-4b05-8bf5-ff687f09f151",
        "outputId": "b0c00eb5-161e-4ae5-ff67-95bfe8fdf0a4"
      },
      "outputs": [
        {
          "output_type": "execute_result",
          "data": {
            "text/plain": [
              "array(['First Trimester', 'Second Trimester', 'Third Trimester'],\n",
              "      dtype=object)"
            ]
          },
          "metadata": {},
          "execution_count": 54
        }
      ],
      "source": [
        "booking_trimester.unique()"
      ]
    },
    {
      "cell_type": "code",
      "source": [
        "def get_weight_range(weight):\n",
        "    if weight > 90:\n",
        "        return 'Over Weight'\n",
        "    else:\n",
        "        return 'Normal Weight'\n",
        "\n",
        "\n",
        "maternal_booking_weight = anc_filtered.weight_kg.apply(get_weight_range)"
      ],
      "metadata": {
        "id": "y3mcZHQbQ0S9"
      },
      "id": "y3mcZHQbQ0S9",
      "execution_count": 55,
      "outputs": []
    },
    {
      "cell_type": "code",
      "source": [
        "trimester_weight = booking_trimester + \"_\" + maternal_booking_weight"
      ],
      "metadata": {
        "id": "-k8PObYhXBft"
      },
      "id": "-k8PObYhXBft",
      "execution_count": 56,
      "outputs": []
    },
    {
      "cell_type": "code",
      "source": [
        "contingency_table = pd.crosstab(trimester_weight, delivery_outcome)"
      ],
      "metadata": {
        "id": "_2P2vBsTTBoo"
      },
      "id": "_2P2vBsTTBoo",
      "execution_count": 57,
      "outputs": []
    },
    {
      "cell_type": "code",
      "source": [
        "from scipy.stats import chi2_contingency"
      ],
      "metadata": {
        "id": "hTsBUhY1Xi1L"
      },
      "id": "hTsBUhY1Xi1L",
      "execution_count": 58,
      "outputs": []
    },
    {
      "cell_type": "code",
      "source": [
        "chi2, p, dof, expected = chi2_contingency(contingency_table)"
      ],
      "metadata": {
        "id": "86m7YDpqXXJu"
      },
      "id": "86m7YDpqXXJu",
      "execution_count": 59,
      "outputs": []
    },
    {
      "cell_type": "code",
      "source": [
        "print(\"Contingency Table:\")\n",
        "print(contingency_table)\n",
        "print(\"\\nChi-square Statistic:\", chi2)\n",
        "print(\"Degrees of Freedom:\", dof)\n",
        "print(\"P-value:\", p)"
      ],
      "metadata": {
        "colab": {
          "base_uri": "https://localhost:8080/"
        },
        "id": "IB81XmD5XmwH",
        "outputId": "1a23b2dd-3867-41fd-bbc0-4cb1ca73fa7e"
      },
      "id": "IB81XmD5XmwH",
      "execution_count": 60,
      "outputs": [
        {
          "output_type": "stream",
          "name": "stdout",
          "text": [
            "Contingency Table:\n",
            "delivery_outcome                Live Birth  Still Birth\n",
            "row_0                                                  \n",
            "First Trimester_Normal Weight           18            0\n",
            "First Trimester_Over Weight              3            0\n",
            "Second Trimester_Normal Weight          67            6\n",
            "Second Trimester_Over Weight             7            1\n",
            "Third Trimester_Normal Weight           15            3\n",
            "Third Trimester_Over Weight              3            0\n",
            "\n",
            "Chi-square Statistic: 4.085399745423688\n",
            "Degrees of Freedom: 5\n",
            "P-value: 0.5371872145815226\n"
          ]
        }
      ]
    }
  ],
  "metadata": {
    "kernelspec": {
      "display_name": "Python 3 (ipykernel)",
      "language": "python",
      "name": "python3"
    },
    "language_info": {
      "codemirror_mode": {
        "name": "ipython",
        "version": 3
      },
      "file_extension": ".py",
      "mimetype": "text/x-python",
      "name": "python",
      "nbconvert_exporter": "python",
      "pygments_lexer": "ipython3",
      "version": "3.12.7"
    },
    "colab": {
      "provenance": []
    }
  },
  "nbformat": 4,
  "nbformat_minor": 5
}